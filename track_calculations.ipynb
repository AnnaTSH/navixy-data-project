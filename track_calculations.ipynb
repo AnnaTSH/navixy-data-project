{
 "cells": [
  {
   "cell_type": "code",
   "execution_count": 1,
   "metadata": {},
   "outputs": [],
   "source": [
    "import pandas as pd"
   ]
  },
  {
   "cell_type": "code",
   "execution_count": 2,
   "metadata": {},
   "outputs": [
    {
     "data": {
      "text/plain": [
       "(11021,\n",
       " Index(['id', 'start_date', 'avg_speed', 'end_date', 'length', 'max_speed',\n",
       "        'norm_fuel_consumed', 'type', 'end_address', 'start_address', 'points',\n",
       "        'tracker_id'],\n",
       "       dtype='object'))"
      ]
     },
     "execution_count": 2,
     "metadata": {},
     "output_type": "execute_result"
    }
   ],
   "source": [
    "df = pd.read_csv('data/track.csv')\n",
    "df.shape[0], df.columns"
   ]
  },
  {
   "cell_type": "code",
   "execution_count": 3,
   "metadata": {},
   "outputs": [],
   "source": [
    "# calculate duration and average speed for each track \n",
    "df['duration'] = (pd.to_datetime(df.end_date) - pd.to_datetime(df.start_date)).dt.total_seconds() / 3600\n",
    "df['avg_speed_calculated'] = df.length / df['duration']"
   ]
  },
  {
   "cell_type": "code",
   "execution_count": 4,
   "metadata": {},
   "outputs": [
    {
     "data": {
      "text/plain": [
       "5.948888888888889"
      ]
     },
     "execution_count": 4,
     "metadata": {},
     "output_type": "execute_result"
    }
   ],
   "source": [
    "# no tracks with duration > 24 hours\n",
    "df['duration'].max()"
   ]
  },
  {
   "cell_type": "code",
   "execution_count": 5,
   "metadata": {},
   "outputs": [
    {
     "data": {
      "text/html": [
       "<div>\n",
       "<style scoped>\n",
       "    .dataframe tbody tr th:only-of-type {\n",
       "        vertical-align: middle;\n",
       "    }\n",
       "\n",
       "    .dataframe tbody tr th {\n",
       "        vertical-align: top;\n",
       "    }\n",
       "\n",
       "    .dataframe thead th {\n",
       "        text-align: right;\n",
       "    }\n",
       "</style>\n",
       "<table border=\"1\" class=\"dataframe\">\n",
       "  <thead>\n",
       "    <tr style=\"text-align: right;\">\n",
       "      <th></th>\n",
       "      <th>id</th>\n",
       "      <th>start_date</th>\n",
       "      <th>avg_speed</th>\n",
       "      <th>end_date</th>\n",
       "      <th>length</th>\n",
       "      <th>max_speed</th>\n",
       "      <th>norm_fuel_consumed</th>\n",
       "      <th>type</th>\n",
       "      <th>end_address</th>\n",
       "      <th>start_address</th>\n",
       "      <th>points</th>\n",
       "      <th>tracker_id</th>\n",
       "      <th>duration</th>\n",
       "      <th>avg_speed_calculated</th>\n",
       "    </tr>\n",
       "  </thead>\n",
       "  <tbody>\n",
       "  </tbody>\n",
       "</table>\n",
       "</div>"
      ],
      "text/plain": [
       "Empty DataFrame\n",
       "Columns: [id, start_date, avg_speed, end_date, length, max_speed, norm_fuel_consumed, type, end_address, start_address, points, tracker_id, duration, avg_speed_calculated]\n",
       "Index: []"
      ]
     },
     "execution_count": 5,
     "metadata": {},
     "output_type": "execute_result"
    }
   ],
   "source": [
    "# check if there are mistakes in the start/end dates\n",
    "df[df.end_date <= df.start_date]"
   ]
  },
  {
   "cell_type": "code",
   "execution_count": 6,
   "metadata": {},
   "outputs": [
    {
     "data": {
      "text/html": [
       "<div>\n",
       "<style scoped>\n",
       "    .dataframe tbody tr th:only-of-type {\n",
       "        vertical-align: middle;\n",
       "    }\n",
       "\n",
       "    .dataframe tbody tr th {\n",
       "        vertical-align: top;\n",
       "    }\n",
       "\n",
       "    .dataframe thead th {\n",
       "        text-align: right;\n",
       "    }\n",
       "</style>\n",
       "<table border=\"1\" class=\"dataframe\">\n",
       "  <thead>\n",
       "    <tr style=\"text-align: right;\">\n",
       "      <th></th>\n",
       "      <th>id</th>\n",
       "      <th>tracker_id</th>\n",
       "    </tr>\n",
       "  </thead>\n",
       "  <tbody>\n",
       "    <tr>\n",
       "      <th>4751</th>\n",
       "      <td>3468.0</td>\n",
       "      <td>3036047</td>\n",
       "    </tr>\n",
       "    <tr>\n",
       "      <th>5905</th>\n",
       "      <td>3468.0</td>\n",
       "      <td>3036049</td>\n",
       "    </tr>\n",
       "    <tr>\n",
       "      <th>5906</th>\n",
       "      <td>3469.0</td>\n",
       "      <td>3036049</td>\n",
       "    </tr>\n",
       "    <tr>\n",
       "      <th>4752</th>\n",
       "      <td>3469.0</td>\n",
       "      <td>3036047</td>\n",
       "    </tr>\n",
       "    <tr>\n",
       "      <th>4753</th>\n",
       "      <td>3470.0</td>\n",
       "      <td>3036047</td>\n",
       "    </tr>\n",
       "    <tr>\n",
       "      <th>5907</th>\n",
       "      <td>3470.0</td>\n",
       "      <td>3036049</td>\n",
       "    </tr>\n",
       "  </tbody>\n",
       "</table>\n",
       "</div>"
      ],
      "text/plain": [
       "          id  tracker_id\n",
       "4751  3468.0     3036047\n",
       "5905  3468.0     3036049\n",
       "5906  3469.0     3036049\n",
       "4752  3469.0     3036047\n",
       "4753  3470.0     3036047\n",
       "5907  3470.0     3036049"
      ]
     },
     "execution_count": 6,
     "metadata": {},
     "output_type": "execute_result"
    }
   ],
   "source": [
    "# check if track ids are unique and are not reused for different trackers tracks\n",
    "df.loc[df.duplicated(subset='id', keep=False), ['id', 'tracker_id']].sort_values(by='id').head(6)"
   ]
  },
  {
   "cell_type": "markdown",
   "metadata": {},
   "source": [
    "Track ids are still usable since they are not duplicated for the same tracker"
   ]
  },
  {
   "cell_type": "code",
   "execution_count": 7,
   "metadata": {},
   "outputs": [
    {
     "data": {
      "text/html": [
       "<div>\n",
       "<style scoped>\n",
       "    .dataframe tbody tr th:only-of-type {\n",
       "        vertical-align: middle;\n",
       "    }\n",
       "\n",
       "    .dataframe tbody tr th {\n",
       "        vertical-align: top;\n",
       "    }\n",
       "\n",
       "    .dataframe thead th {\n",
       "        text-align: right;\n",
       "    }\n",
       "</style>\n",
       "<table border=\"1\" class=\"dataframe\">\n",
       "  <thead>\n",
       "    <tr style=\"text-align: right;\">\n",
       "      <th></th>\n",
       "      <th>id</th>\n",
       "      <th>tracker_id</th>\n",
       "    </tr>\n",
       "  </thead>\n",
       "  <tbody>\n",
       "  </tbody>\n",
       "</table>\n",
       "</div>"
      ],
      "text/plain": [
       "Empty DataFrame\n",
       "Columns: [id, tracker_id]\n",
       "Index: []"
      ]
     },
     "execution_count": 7,
     "metadata": {},
     "output_type": "execute_result"
    }
   ],
   "source": [
    "df.loc[df.duplicated(subset=['id', 'tracker_id'], keep=False), ['id', 'tracker_id']].sort_values(by='id')"
   ]
  },
  {
   "cell_type": "markdown",
   "metadata": {},
   "source": [
    "There are only 2 trackers that have information on fuel consumed, still it would be interesting to have this information visualised."
   ]
  },
  {
   "cell_type": "code",
   "execution_count": 8,
   "metadata": {},
   "outputs": [
    {
     "data": {
      "text/plain": [
       "tracker_id\n",
       "877766    1100\n",
       "877767     487\n",
       "Name: count, dtype: int64"
      ]
     },
     "execution_count": 8,
     "metadata": {},
     "output_type": "execute_result"
    }
   ],
   "source": [
    "df[df.norm_fuel_consumed.notna()].tracker_id.value_counts()"
   ]
  },
  {
   "cell_type": "markdown",
   "metadata": {},
   "source": [
    "We want to get statistics on the number of active and finished tracks for each day, distance traveled, duration (active and off-track time), and average speed for trackers separately for each day."
   ]
  },
  {
   "cell_type": "code",
   "execution_count": 9,
   "metadata": {},
   "outputs": [],
   "source": [
    "# create a column with the dates when tracks were finished\n",
    "df['track_finished_date'] = pd.to_datetime(df['end_date']).dt.date"
   ]
  },
  {
   "cell_type": "code",
   "execution_count": 10,
   "metadata": {},
   "outputs": [],
   "source": [
    "# select tracks that start on one day and end on another\n",
    "# we need to split each of them in 2 parts (one for each day)\n",
    "start = df[pd.to_datetime(df.start_date).dt.day != pd.to_datetime(df.end_date).dt.day].copy()\n",
    "end = df[pd.to_datetime(df.start_date).dt.day != pd.to_datetime(df.end_date).dt.day].copy()\n",
    "start['end_date'] = start['start_date'].apply(lambda x: x[:11] + '23:59:59')\n",
    "end['start_date'] = end['end_date'].apply(lambda x: x[:11] + '00:00:00')"
   ]
  },
  {
   "cell_type": "code",
   "execution_count": 11,
   "metadata": {},
   "outputs": [],
   "source": [
    "\n",
    "start['duration'] = (pd.to_datetime(start.end_date) - pd.to_datetime(start.start_date)).dt.total_seconds() / 3600\n",
    "end['duration'] = (pd.to_datetime(end.end_date) - pd.to_datetime(end.start_date)).dt.total_seconds() / 3600\n",
    "\n",
    "# using the duration data and accurately calculated average speed, \n",
    "# we can determine the distance traveled for tracks that span two days, broken down by each day\n",
    "start['length_split'] = round(start['duration'] * start['avg_speed_calculated'], 2)\n",
    "end['length_split'] = round(end['duration'] * end['avg_speed_calculated'], 2)\n",
    "\n",
    "# we should note that there is some degree of inaccuracy in these calculations\n",
    "# because we assume that vehicle moved with the same average speed during the whole track\n",
    "# same with fuel \n",
    "start['norm_fuel_consumed'] = round(start['norm_fuel_consumed'] * start['length_split'] / start['length'], 2)\n",
    "end['norm_fuel_consumed'] = round(end['norm_fuel_consumed'] * end['length_split'] / end['length'], 2)\n",
    "\n",
    "# we don't need original (full) track length any more\n",
    "start = start.drop(columns={'length'}).rename(columns={'length_split' : 'length'})\n",
    "end = end.drop(columns={'length'}).rename(columns={'length_split' : 'length'})"
   ]
  },
  {
   "cell_type": "code",
   "execution_count": 12,
   "metadata": {},
   "outputs": [],
   "source": [
    "# create a stats dataframe with aggregated data on the number of completed tracks for each tracker per day\n",
    "stats = (df.groupby(['track_finished_date', 'tracker_id'])\n",
    "         .agg({'id': 'count'})\n",
    "         .reset_index()\n",
    "         .rename(columns={'id':'count_finished', 'track_finished_date': 'date'}))"
   ]
  },
  {
   "cell_type": "code",
   "execution_count": 13,
   "metadata": {},
   "outputs": [
    {
     "data": {
      "text/plain": [
       "Index(['id', 'start_date', 'avg_speed', 'end_date', 'length', 'max_speed',\n",
       "       'norm_fuel_consumed', 'type', 'end_address', 'start_address', 'points',\n",
       "       'tracker_id', 'duration', 'avg_speed_calculated',\n",
       "       'track_finished_date'],\n",
       "      dtype='object')"
      ]
     },
     "execution_count": 13,
     "metadata": {},
     "output_type": "execute_result"
    }
   ],
   "source": [
    "df.columns"
   ]
  },
  {
   "cell_type": "code",
   "execution_count": 14,
   "metadata": {},
   "outputs": [],
   "source": [
    "start = start[['id', 'start_date', 'avg_speed', 'end_date', 'length', 'max_speed',\n",
    "        'norm_fuel_consumed', 'type', 'end_address', 'start_address', 'points',\n",
    "        'tracker_id', 'duration', 'avg_speed_calculated',\n",
    "        'track_finished_date']]\n",
    "end = end[['id', 'start_date', 'avg_speed', 'end_date', 'length', 'max_speed',\n",
    "        'norm_fuel_consumed', 'type', 'end_address', 'start_address', 'points',\n",
    "        'tracker_id', 'duration', 'avg_speed_calculated',\n",
    "        'track_finished_date']]"
   ]
  },
  {
   "cell_type": "code",
   "execution_count": 15,
   "metadata": {},
   "outputs": [],
   "source": [
    "# replace the entries of tracks that span two days with two separate entries: one for the start day and another for the end day\n",
    "df = pd.concat([df[pd.to_datetime(df.start_date).dt.day == pd.to_datetime(df.end_date).dt.day],\n",
    "                start, \n",
    "                end]\n",
    "              ).reset_index(drop=True)\n"
   ]
  },
  {
   "cell_type": "code",
   "execution_count": 16,
   "metadata": {},
   "outputs": [],
   "source": [
    "# add number of active tracks to the stats df\n",
    "df['track_active_date'] = pd.to_datetime(df['start_date']).dt.date\n",
    "stats = stats.merge(df.groupby(['track_active_date', 'tracker_id'])\n",
    "                    .agg({'id': 'count'})\n",
    "                    .reset_index()\n",
    "                    .rename(columns={'id':'count_active', 'track_active_date':'date'}), \n",
    "                            on=['date', 'tracker_id'], \n",
    "                            how='outer')"
   ]
  },
  {
   "cell_type": "code",
   "execution_count": 17,
   "metadata": {},
   "outputs": [],
   "source": [
    "# add aggregated length, duration, off-track time and average speed\n",
    "stats = stats.merge(df.groupby(['track_active_date', 'tracker_id'])\n",
    "                    .agg({'length': 'sum'})\n",
    "                    .reset_index()\n",
    "                    .rename(columns={'track_active_date':'date'}), \n",
    "                            on=['date', 'tracker_id'], \n",
    "                            how='outer')\n",
    "stats = stats.merge(df.groupby(['track_active_date', 'tracker_id'])\n",
    "                    .agg({'duration': 'sum'})\n",
    "                    .reset_index()\n",
    "                    .rename(columns={'track_active_date':'date'}), \n",
    "                            on=['date', 'tracker_id'], \n",
    "                            how='outer')\n",
    "stats['offtrack_time'] = 24 - stats['duration']\n",
    "stats['avg_speed'] = stats['length'] / stats['duration']"
   ]
  },
  {
   "cell_type": "code",
   "execution_count": 18,
   "metadata": {},
   "outputs": [
    {
     "data": {
      "text/html": [
       "<div>\n",
       "<style scoped>\n",
       "    .dataframe tbody tr th:only-of-type {\n",
       "        vertical-align: middle;\n",
       "    }\n",
       "\n",
       "    .dataframe tbody tr th {\n",
       "        vertical-align: top;\n",
       "    }\n",
       "\n",
       "    .dataframe thead th {\n",
       "        text-align: right;\n",
       "    }\n",
       "</style>\n",
       "<table border=\"1\" class=\"dataframe\">\n",
       "  <thead>\n",
       "    <tr style=\"text-align: right;\">\n",
       "      <th></th>\n",
       "      <th>date</th>\n",
       "      <th>tracker_id</th>\n",
       "      <th>count_finished</th>\n",
       "      <th>count_active</th>\n",
       "      <th>length</th>\n",
       "      <th>duration</th>\n",
       "      <th>offtrack_time</th>\n",
       "      <th>avg_speed</th>\n",
       "    </tr>\n",
       "  </thead>\n",
       "  <tbody>\n",
       "    <tr>\n",
       "      <th>0</th>\n",
       "      <td>2024-06-24</td>\n",
       "      <td>877766</td>\n",
       "      <td>47</td>\n",
       "      <td>47</td>\n",
       "      <td>739.75</td>\n",
       "      <td>16.796389</td>\n",
       "      <td>7.203611</td>\n",
       "      <td>44.042205</td>\n",
       "    </tr>\n",
       "    <tr>\n",
       "      <th>1</th>\n",
       "      <td>2024-06-24</td>\n",
       "      <td>877767</td>\n",
       "      <td>20</td>\n",
       "      <td>21</td>\n",
       "      <td>856.61</td>\n",
       "      <td>19.289444</td>\n",
       "      <td>4.710556</td>\n",
       "      <td>44.408226</td>\n",
       "    </tr>\n",
       "    <tr>\n",
       "      <th>2</th>\n",
       "      <td>2024-06-24</td>\n",
       "      <td>877768</td>\n",
       "      <td>68</td>\n",
       "      <td>69</td>\n",
       "      <td>829.97</td>\n",
       "      <td>19.137222</td>\n",
       "      <td>4.862778</td>\n",
       "      <td>43.369408</td>\n",
       "    </tr>\n",
       "    <tr>\n",
       "      <th>3</th>\n",
       "      <td>2024-06-24</td>\n",
       "      <td>3036043</td>\n",
       "      <td>53</td>\n",
       "      <td>54</td>\n",
       "      <td>306.53</td>\n",
       "      <td>7.116389</td>\n",
       "      <td>16.883611</td>\n",
       "      <td>43.073812</td>\n",
       "    </tr>\n",
       "    <tr>\n",
       "      <th>4</th>\n",
       "      <td>2024-06-24</td>\n",
       "      <td>3036045</td>\n",
       "      <td>1</td>\n",
       "      <td>1</td>\n",
       "      <td>301.00</td>\n",
       "      <td>2.974722</td>\n",
       "      <td>21.025278</td>\n",
       "      <td>101.185918</td>\n",
       "    </tr>\n",
       "    <tr>\n",
       "      <th>...</th>\n",
       "      <td>...</td>\n",
       "      <td>...</td>\n",
       "      <td>...</td>\n",
       "      <td>...</td>\n",
       "      <td>...</td>\n",
       "      <td>...</td>\n",
       "      <td>...</td>\n",
       "      <td>...</td>\n",
       "    </tr>\n",
       "    <tr>\n",
       "      <th>367</th>\n",
       "      <td>2024-07-23</td>\n",
       "      <td>3036043</td>\n",
       "      <td>14</td>\n",
       "      <td>14</td>\n",
       "      <td>73.94</td>\n",
       "      <td>1.783056</td>\n",
       "      <td>22.216944</td>\n",
       "      <td>41.468141</td>\n",
       "    </tr>\n",
       "    <tr>\n",
       "      <th>368</th>\n",
       "      <td>2024-07-23</td>\n",
       "      <td>3036056</td>\n",
       "      <td>13</td>\n",
       "      <td>13</td>\n",
       "      <td>92.33</td>\n",
       "      <td>2.113611</td>\n",
       "      <td>21.886389</td>\n",
       "      <td>43.683533</td>\n",
       "    </tr>\n",
       "    <tr>\n",
       "      <th>369</th>\n",
       "      <td>2024-07-23</td>\n",
       "      <td>3036057</td>\n",
       "      <td>1</td>\n",
       "      <td>1</td>\n",
       "      <td>64.96</td>\n",
       "      <td>0.665556</td>\n",
       "      <td>23.334444</td>\n",
       "      <td>97.602671</td>\n",
       "    </tr>\n",
       "    <tr>\n",
       "      <th>370</th>\n",
       "      <td>2024-07-23</td>\n",
       "      <td>3036068</td>\n",
       "      <td>13</td>\n",
       "      <td>13</td>\n",
       "      <td>92.23</td>\n",
       "      <td>2.125556</td>\n",
       "      <td>21.874444</td>\n",
       "      <td>43.391009</td>\n",
       "    </tr>\n",
       "    <tr>\n",
       "      <th>371</th>\n",
       "      <td>2024-07-23</td>\n",
       "      <td>3036069</td>\n",
       "      <td>1</td>\n",
       "      <td>1</td>\n",
       "      <td>350.91</td>\n",
       "      <td>3.904722</td>\n",
       "      <td>20.095278</td>\n",
       "      <td>89.868108</td>\n",
       "    </tr>\n",
       "  </tbody>\n",
       "</table>\n",
       "<p>372 rows × 8 columns</p>\n",
       "</div>"
      ],
      "text/plain": [
       "           date  tracker_id  count_finished  count_active  length   duration  \\\n",
       "0    2024-06-24      877766              47            47  739.75  16.796389   \n",
       "1    2024-06-24      877767              20            21  856.61  19.289444   \n",
       "2    2024-06-24      877768              68            69  829.97  19.137222   \n",
       "3    2024-06-24     3036043              53            54  306.53   7.116389   \n",
       "4    2024-06-24     3036045               1             1  301.00   2.974722   \n",
       "..          ...         ...             ...           ...     ...        ...   \n",
       "367  2024-07-23     3036043              14            14   73.94   1.783056   \n",
       "368  2024-07-23     3036056              13            13   92.33   2.113611   \n",
       "369  2024-07-23     3036057               1             1   64.96   0.665556   \n",
       "370  2024-07-23     3036068              13            13   92.23   2.125556   \n",
       "371  2024-07-23     3036069               1             1  350.91   3.904722   \n",
       "\n",
       "     offtrack_time   avg_speed  \n",
       "0         7.203611   44.042205  \n",
       "1         4.710556   44.408226  \n",
       "2         4.862778   43.369408  \n",
       "3        16.883611   43.073812  \n",
       "4        21.025278  101.185918  \n",
       "..             ...         ...  \n",
       "367      22.216944   41.468141  \n",
       "368      21.886389   43.683533  \n",
       "369      23.334444   97.602671  \n",
       "370      21.874444   43.391009  \n",
       "371      20.095278   89.868108  \n",
       "\n",
       "[372 rows x 8 columns]"
      ]
     },
     "execution_count": 18,
     "metadata": {},
     "output_type": "execute_result"
    }
   ],
   "source": [
    "stats"
   ]
  },
  {
   "cell_type": "markdown",
   "metadata": {},
   "source": [
    "Let's compare the aggregated distances and mileage, obtained from mileage endpoint"
   ]
  },
  {
   "cell_type": "code",
   "execution_count": 19,
   "metadata": {},
   "outputs": [
    {
     "data": {
      "text/html": [
       "<div>\n",
       "<style scoped>\n",
       "    .dataframe tbody tr th:only-of-type {\n",
       "        vertical-align: middle;\n",
       "    }\n",
       "\n",
       "    .dataframe tbody tr th {\n",
       "        vertical-align: top;\n",
       "    }\n",
       "\n",
       "    .dataframe thead th {\n",
       "        text-align: right;\n",
       "    }\n",
       "</style>\n",
       "<table border=\"1\" class=\"dataframe\">\n",
       "  <thead>\n",
       "    <tr style=\"text-align: right;\">\n",
       "      <th></th>\n",
       "      <th>tracker_id</th>\n",
       "      <th>date</th>\n",
       "      <th>mileage</th>\n",
       "      <th>length</th>\n",
       "      <th>count_finished</th>\n",
       "      <th>count_active</th>\n",
       "      <th>length_diff</th>\n",
       "    </tr>\n",
       "  </thead>\n",
       "  <tbody>\n",
       "    <tr>\n",
       "      <th>271</th>\n",
       "      <td>3036057</td>\n",
       "      <td>2024-06-25</td>\n",
       "      <td>1363.25</td>\n",
       "      <td>1111.88</td>\n",
       "      <td>3.0</td>\n",
       "      <td>3.0</td>\n",
       "      <td>251.37</td>\n",
       "    </tr>\n",
       "    <tr>\n",
       "      <th>294</th>\n",
       "      <td>3036057</td>\n",
       "      <td>2024-07-18</td>\n",
       "      <td>1385.05</td>\n",
       "      <td>1144.22</td>\n",
       "      <td>4.0</td>\n",
       "      <td>4.0</td>\n",
       "      <td>240.83</td>\n",
       "    </tr>\n",
       "    <tr>\n",
       "      <th>278</th>\n",
       "      <td>3036057</td>\n",
       "      <td>2024-07-02</td>\n",
       "      <td>1330.81</td>\n",
       "      <td>1091.56</td>\n",
       "      <td>3.0</td>\n",
       "      <td>3.0</td>\n",
       "      <td>239.25</td>\n",
       "    </tr>\n",
       "    <tr>\n",
       "      <th>414</th>\n",
       "      <td>3036069</td>\n",
       "      <td>2024-07-18</td>\n",
       "      <td>1190.73</td>\n",
       "      <td>987.96</td>\n",
       "      <td>6.0</td>\n",
       "      <td>6.0</td>\n",
       "      <td>202.77</td>\n",
       "    </tr>\n",
       "    <tr>\n",
       "      <th>412</th>\n",
       "      <td>3036069</td>\n",
       "      <td>2024-07-16</td>\n",
       "      <td>1235.33</td>\n",
       "      <td>1069.83</td>\n",
       "      <td>6.0</td>\n",
       "      <td>6.0</td>\n",
       "      <td>165.50</td>\n",
       "    </tr>\n",
       "    <tr>\n",
       "      <th>404</th>\n",
       "      <td>3036069</td>\n",
       "      <td>2024-07-08</td>\n",
       "      <td>1075.85</td>\n",
       "      <td>923.74</td>\n",
       "      <td>4.0</td>\n",
       "      <td>4.0</td>\n",
       "      <td>152.11</td>\n",
       "    </tr>\n",
       "    <tr>\n",
       "      <th>288</th>\n",
       "      <td>3036057</td>\n",
       "      <td>2024-07-12</td>\n",
       "      <td>1143.88</td>\n",
       "      <td>993.86</td>\n",
       "      <td>3.0</td>\n",
       "      <td>3.0</td>\n",
       "      <td>150.02</td>\n",
       "    </tr>\n",
       "    <tr>\n",
       "      <th>408</th>\n",
       "      <td>3036069</td>\n",
       "      <td>2024-07-12</td>\n",
       "      <td>1040.31</td>\n",
       "      <td>903.60</td>\n",
       "      <td>4.0</td>\n",
       "      <td>4.0</td>\n",
       "      <td>136.71</td>\n",
       "    </tr>\n",
       "    <tr>\n",
       "      <th>172</th>\n",
       "      <td>3036045</td>\n",
       "      <td>2024-07-16</td>\n",
       "      <td>549.50</td>\n",
       "      <td>429.11</td>\n",
       "      <td>2.0</td>\n",
       "      <td>2.0</td>\n",
       "      <td>120.39</td>\n",
       "    </tr>\n",
       "    <tr>\n",
       "      <th>284</th>\n",
       "      <td>3036057</td>\n",
       "      <td>2024-07-08</td>\n",
       "      <td>1531.56</td>\n",
       "      <td>1428.01</td>\n",
       "      <td>4.0</td>\n",
       "      <td>4.0</td>\n",
       "      <td>103.55</td>\n",
       "    </tr>\n",
       "  </tbody>\n",
       "</table>\n",
       "</div>"
      ],
      "text/plain": [
       "     tracker_id        date  mileage   length  count_finished  count_active  \\\n",
       "271     3036057  2024-06-25  1363.25  1111.88             3.0           3.0   \n",
       "294     3036057  2024-07-18  1385.05  1144.22             4.0           4.0   \n",
       "278     3036057  2024-07-02  1330.81  1091.56             3.0           3.0   \n",
       "414     3036069  2024-07-18  1190.73   987.96             6.0           6.0   \n",
       "412     3036069  2024-07-16  1235.33  1069.83             6.0           6.0   \n",
       "404     3036069  2024-07-08  1075.85   923.74             4.0           4.0   \n",
       "288     3036057  2024-07-12  1143.88   993.86             3.0           3.0   \n",
       "408     3036069  2024-07-12  1040.31   903.60             4.0           4.0   \n",
       "172     3036045  2024-07-16   549.50   429.11             2.0           2.0   \n",
       "284     3036057  2024-07-08  1531.56  1428.01             4.0           4.0   \n",
       "\n",
       "     length_diff  \n",
       "271       251.37  \n",
       "294       240.83  \n",
       "278       239.25  \n",
       "414       202.77  \n",
       "412       165.50  \n",
       "404       152.11  \n",
       "288       150.02  \n",
       "408       136.71  \n",
       "172       120.39  \n",
       "284       103.55  "
      ]
     },
     "execution_count": 19,
     "metadata": {},
     "output_type": "execute_result"
    }
   ],
   "source": [
    "dfm = pd.read_csv('data/mileage.csv')\n",
    "dfm = (dfm.sort_values(by='date').reset_index(drop=True).astype({'date':'str'})\n",
    "        .merge(stats[['date', 'tracker_id', 'length', 'count_finished', 'count_active']].sort_values(by='date').reset_index(drop=True).astype({'date':'str'}), \n",
    "                on=['tracker_id', 'date'], how='outer'))\n",
    "dfm['length_diff'] = abs(dfm.mileage - dfm.length)\n",
    "dfm[dfm['length_diff'] > 2].sort_values(by='length_diff', ascending=False).head(10)"
   ]
  },
  {
   "cell_type": "markdown",
   "metadata": {},
   "source": [
    "There are occurrences of discrepancies between the aggregated daily distance traveled and the daily mileage for each tracker"
   ]
  },
  {
   "cell_type": "code",
   "execution_count": 20,
   "metadata": {},
   "outputs": [
    {
     "data": {
      "text/plain": [
       "14"
      ]
     },
     "execution_count": 20,
     "metadata": {},
     "output_type": "execute_result"
    }
   ],
   "source": [
    "dfm[dfm['length_diff'] > 2].tracker_id.nunique()"
   ]
  },
  {
   "cell_type": "markdown",
   "metadata": {},
   "source": [
    "When examining the tracks for a day with discrepancies between mileage and the sum of track lengths, we see that the end address of one track and the start address of the next track don't always coincide. Some vehicle travels might occur but are not recorded as tracks."
   ]
  },
  {
   "cell_type": "code",
   "execution_count": 21,
   "metadata": {},
   "outputs": [
    {
     "data": {
      "text/html": [
       "<div>\n",
       "<style scoped>\n",
       "    .dataframe tbody tr th:only-of-type {\n",
       "        vertical-align: middle;\n",
       "    }\n",
       "\n",
       "    .dataframe tbody tr th {\n",
       "        vertical-align: top;\n",
       "    }\n",
       "\n",
       "    .dataframe thead th {\n",
       "        text-align: right;\n",
       "    }\n",
       "</style>\n",
       "<table border=\"1\" class=\"dataframe\">\n",
       "  <thead>\n",
       "    <tr style=\"text-align: right;\">\n",
       "      <th></th>\n",
       "      <th>id</th>\n",
       "      <th>start_date</th>\n",
       "      <th>end_date</th>\n",
       "      <th>length</th>\n",
       "      <th>start_address</th>\n",
       "      <th>end_address</th>\n",
       "    </tr>\n",
       "  </thead>\n",
       "  <tbody>\n",
       "    <tr>\n",
       "      <th>7252</th>\n",
       "      <td>360.0</td>\n",
       "      <td>2024-07-18 05:15:26</td>\n",
       "      <td>2024-07-18 09:31:29</td>\n",
       "      <td>411.83</td>\n",
       "      <td>Carretera Matehuala-San Luis Potosí, San Luis Potosí City, San Luis Potosí, Mexico, 78319</td>\n",
       "      <td>Avenida Constituyentes - General José Montesinos, Avenida Constituyentes, Mexico City, Miguel Hidalgo, Mexico, 11100</td>\n",
       "    </tr>\n",
       "    <tr>\n",
       "      <th>7253</th>\n",
       "      <td>361.0</td>\n",
       "      <td>2024-07-18 09:31:34</td>\n",
       "      <td>2024-07-18 09:53:48</td>\n",
       "      <td>27.33</td>\n",
       "      <td>Avenida Constituyentes - General José Montesinos, Avenida Constituyentes, Mexico City, Miguel Hidalgo, Mexico, 11100</td>\n",
       "      <td>Viaducto Bicentenario, Tlalnepantla, State of Mexico, Mexico, 54015</td>\n",
       "    </tr>\n",
       "    <tr>\n",
       "      <th>7254</th>\n",
       "      <td>362.0</td>\n",
       "      <td>2024-07-18 11:06:02</td>\n",
       "      <td>2024-07-18 14:10:19</td>\n",
       "      <td>297.18</td>\n",
       "      <td>Carretera Querétaro - San Luis Potosí, Punto Blanco Dos, Guanajuato, Mexico, 37914</td>\n",
       "      <td>Avenida Constituyentes - General José Montesinos, Avenida Constituyentes, Mexico City, Miguel Hidalgo, Mexico, 11100</td>\n",
       "    </tr>\n",
       "    <tr>\n",
       "      <th>7255</th>\n",
       "      <td>363.0</td>\n",
       "      <td>2024-07-18 14:10:24</td>\n",
       "      <td>2024-07-18 18:21:12</td>\n",
       "      <td>407.88</td>\n",
       "      <td>Avenida Constituyentes - General José Montesinos, Avenida Constituyentes, Mexico City, Miguel Hidalgo, Mexico, 11100</td>\n",
       "      <td>Calle José María Mercado, San Luis Potosí City, San Luis Potosí, Mexico, 78319</td>\n",
       "    </tr>\n",
       "  </tbody>\n",
       "</table>\n",
       "</div>"
      ],
      "text/plain": [
       "         id           start_date             end_date  length  \\\n",
       "7252  360.0  2024-07-18 05:15:26  2024-07-18 09:31:29  411.83   \n",
       "7253  361.0  2024-07-18 09:31:34  2024-07-18 09:53:48   27.33   \n",
       "7254  362.0  2024-07-18 11:06:02  2024-07-18 14:10:19  297.18   \n",
       "7255  363.0  2024-07-18 14:10:24  2024-07-18 18:21:12  407.88   \n",
       "\n",
       "                                                                                                             start_address  \\\n",
       "7252                             Carretera Matehuala-San Luis Potosí, San Luis Potosí City, San Luis Potosí, Mexico, 78319   \n",
       "7253  Avenida Constituyentes - General José Montesinos, Avenida Constituyentes, Mexico City, Miguel Hidalgo, Mexico, 11100   \n",
       "7254                                    Carretera Querétaro - San Luis Potosí, Punto Blanco Dos, Guanajuato, Mexico, 37914   \n",
       "7255  Avenida Constituyentes - General José Montesinos, Avenida Constituyentes, Mexico City, Miguel Hidalgo, Mexico, 11100   \n",
       "\n",
       "                                                                                                               end_address  \n",
       "7252  Avenida Constituyentes - General José Montesinos, Avenida Constituyentes, Mexico City, Miguel Hidalgo, Mexico, 11100  \n",
       "7253                                                   Viaducto Bicentenario, Tlalnepantla, State of Mexico, Mexico, 54015  \n",
       "7254  Avenida Constituyentes - General José Montesinos, Avenida Constituyentes, Mexico City, Miguel Hidalgo, Mexico, 11100  \n",
       "7255                                        Calle José María Mercado, San Luis Potosí City, San Luis Potosí, Mexico, 78319  "
      ]
     },
     "metadata": {},
     "output_type": "display_data"
    }
   ],
   "source": [
    "with pd.option_context(\"display.max_rows\", 1200, \"display.max_columns\", 1000, 'display.max_colwidth', 1000):\n",
    "    display(df.loc[df.start_date.str.contains('2024-07-18') & (df.tracker_id == 3036057), \n",
    "            ['id', 'start_date', 'end_date', 'length', 'start_address', 'end_address']])"
   ]
  },
  {
   "cell_type": "code",
   "execution_count": 22,
   "metadata": {},
   "outputs": [
    {
     "data": {
      "text/html": [
       "<div>\n",
       "<style scoped>\n",
       "    .dataframe tbody tr th:only-of-type {\n",
       "        vertical-align: middle;\n",
       "    }\n",
       "\n",
       "    .dataframe tbody tr th {\n",
       "        vertical-align: top;\n",
       "    }\n",
       "\n",
       "    .dataframe thead th {\n",
       "        text-align: right;\n",
       "    }\n",
       "</style>\n",
       "<table border=\"1\" class=\"dataframe\">\n",
       "  <thead>\n",
       "    <tr style=\"text-align: right;\">\n",
       "      <th></th>\n",
       "      <th>id</th>\n",
       "      <th>start_date</th>\n",
       "      <th>end_date</th>\n",
       "      <th>length</th>\n",
       "      <th>start_address</th>\n",
       "      <th>end_address</th>\n",
       "    </tr>\n",
       "  </thead>\n",
       "  <tbody>\n",
       "    <tr>\n",
       "      <th>9203</th>\n",
       "      <td>905.0</td>\n",
       "      <td>2024-07-08 07:41:26</td>\n",
       "      <td>2024-07-08 10:47:26</td>\n",
       "      <td>246.69</td>\n",
       "      <td>A 3, Kitzingen, Bavaria, Germany, 97318</td>\n",
       "      <td>A 3, Dernbach, Puderbach, Landkreis Neuwied, Rhineland-Palatinate, Germany, 56307</td>\n",
       "    </tr>\n",
       "    <tr>\n",
       "      <th>9204</th>\n",
       "      <td>906.0</td>\n",
       "      <td>2024-07-08 11:33:03</td>\n",
       "      <td>2024-07-08 14:34:30</td>\n",
       "      <td>235.62</td>\n",
       "      <td>A 3, Bischbrunn, Verwaltungsgemeinschaft Marktheidenfeld, Bavaria, Germany, 97836</td>\n",
       "      <td>A 3, Rösrath, North Rhine-Westphalia, Germany, 51503</td>\n",
       "    </tr>\n",
       "    <tr>\n",
       "      <th>9205</th>\n",
       "      <td>907.0</td>\n",
       "      <td>2024-07-08 14:39:00</td>\n",
       "      <td>2024-07-08 14:49:41</td>\n",
       "      <td>1.70</td>\n",
       "      <td>A 3, Rösrath, North Rhine-Westphalia, Germany, 51503</td>\n",
       "      <td>A 3, Rösrath, North Rhine-Westphalia, Germany, 51503</td>\n",
       "    </tr>\n",
       "    <tr>\n",
       "      <th>9206</th>\n",
       "      <td>908.0</td>\n",
       "      <td>2024-07-08 14:50:21</td>\n",
       "      <td>2024-07-08 19:43:52</td>\n",
       "      <td>439.73</td>\n",
       "      <td>A 3, Rösrath, North Rhine-Westphalia, Germany, 51503</td>\n",
       "      <td>A 3, Kitzingen, Bavaria, Germany, 97318</td>\n",
       "    </tr>\n",
       "  </tbody>\n",
       "</table>\n",
       "</div>"
      ],
      "text/plain": [
       "         id           start_date             end_date  length  \\\n",
       "9203  905.0  2024-07-08 07:41:26  2024-07-08 10:47:26  246.69   \n",
       "9204  906.0  2024-07-08 11:33:03  2024-07-08 14:34:30  235.62   \n",
       "9205  907.0  2024-07-08 14:39:00  2024-07-08 14:49:41    1.70   \n",
       "9206  908.0  2024-07-08 14:50:21  2024-07-08 19:43:52  439.73   \n",
       "\n",
       "                                                                          start_address  \\\n",
       "9203                                            A 3, Kitzingen, Bavaria, Germany, 97318   \n",
       "9204  A 3, Bischbrunn, Verwaltungsgemeinschaft Marktheidenfeld, Bavaria, Germany, 97836   \n",
       "9205                               A 3, Rösrath, North Rhine-Westphalia, Germany, 51503   \n",
       "9206                               A 3, Rösrath, North Rhine-Westphalia, Germany, 51503   \n",
       "\n",
       "                                                                            end_address  \n",
       "9203  A 3, Dernbach, Puderbach, Landkreis Neuwied, Rhineland-Palatinate, Germany, 56307  \n",
       "9204                               A 3, Rösrath, North Rhine-Westphalia, Germany, 51503  \n",
       "9205                               A 3, Rösrath, North Rhine-Westphalia, Germany, 51503  \n",
       "9206                                            A 3, Kitzingen, Bavaria, Germany, 97318  "
      ]
     },
     "metadata": {},
     "output_type": "display_data"
    }
   ],
   "source": [
    "with pd.option_context(\"display.max_rows\", 1200, \"display.max_columns\", 1000, 'display.max_colwidth', 1000):\n",
    "    display(df.loc[df.start_date.str.contains('2024-07-08') & (df.tracker_id == 3036069), \n",
    "            ['id', 'start_date', 'end_date', 'length', 'start_address', 'end_address']])"
   ]
  },
  {
   "cell_type": "code",
   "execution_count": 23,
   "metadata": {},
   "outputs": [],
   "source": [
    "stats.to_csv('data/stats.csv', index=False)"
   ]
  }
 ],
 "metadata": {
  "kernelspec": {
   "display_name": "base",
   "language": "python",
   "name": "python3"
  },
  "language_info": {
   "codemirror_mode": {
    "name": "ipython",
    "version": 3
   },
   "file_extension": ".py",
   "mimetype": "text/x-python",
   "name": "python",
   "nbconvert_exporter": "python",
   "pygments_lexer": "ipython3",
   "version": "3.11.5"
  }
 },
 "nbformat": 4,
 "nbformat_minor": 2
}
