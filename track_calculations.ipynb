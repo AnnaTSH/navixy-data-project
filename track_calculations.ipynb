{
 "cells": [
  {
   "cell_type": "code",
   "execution_count": 1,
   "metadata": {},
   "outputs": [],
   "source": [
    "import pandas as pd"
   ]
  },
  {
   "cell_type": "code",
   "execution_count": 2,
   "metadata": {},
   "outputs": [
    {
     "data": {
      "text/plain": [
       "(10125,\n",
       " Index(['id', 'start_date', 'avg_speed', 'end_date', 'length', 'max_speed',\n",
       "        'norm_fuel_consumed', 'type', 'end_address', 'start_address', 'points',\n",
       "        'tracker_id'],\n",
       "       dtype='object'))"
      ]
     },
     "execution_count": 2,
     "metadata": {},
     "output_type": "execute_result"
    }
   ],
   "source": [
    "df = pd.read_csv('data/track.csv')\n",
    "df.shape[0], df.columns"
   ]
  },
  {
   "cell_type": "code",
   "execution_count": 3,
   "metadata": {},
   "outputs": [],
   "source": [
    "# calculate duration and average speed for each track \n",
    "df['duration'] = (pd.to_datetime(df.end_date) - pd.to_datetime(df.start_date)).dt.total_seconds() / 3600\n",
    "df['avg_speed_calculated'] = df.length / df['duration']"
   ]
  },
  {
   "cell_type": "code",
   "execution_count": 4,
   "metadata": {},
   "outputs": [
    {
     "data": {
      "text/plain": [
       "5.948888888888889"
      ]
     },
     "execution_count": 4,
     "metadata": {},
     "output_type": "execute_result"
    }
   ],
   "source": [
    "# no tracks with duration > 24 hours\n",
    "df['duration'].max()"
   ]
  },
  {
   "cell_type": "code",
   "execution_count": 5,
   "metadata": {},
   "outputs": [
    {
     "data": {
      "text/html": [
       "<div>\n",
       "<style scoped>\n",
       "    .dataframe tbody tr th:only-of-type {\n",
       "        vertical-align: middle;\n",
       "    }\n",
       "\n",
       "    .dataframe tbody tr th {\n",
       "        vertical-align: top;\n",
       "    }\n",
       "\n",
       "    .dataframe thead th {\n",
       "        text-align: right;\n",
       "    }\n",
       "</style>\n",
       "<table border=\"1\" class=\"dataframe\">\n",
       "  <thead>\n",
       "    <tr style=\"text-align: right;\">\n",
       "      <th></th>\n",
       "      <th>id</th>\n",
       "      <th>start_date</th>\n",
       "      <th>avg_speed</th>\n",
       "      <th>end_date</th>\n",
       "      <th>length</th>\n",
       "      <th>max_speed</th>\n",
       "      <th>norm_fuel_consumed</th>\n",
       "      <th>type</th>\n",
       "      <th>end_address</th>\n",
       "      <th>start_address</th>\n",
       "      <th>points</th>\n",
       "      <th>tracker_id</th>\n",
       "      <th>duration</th>\n",
       "      <th>avg_speed_calculated</th>\n",
       "    </tr>\n",
       "  </thead>\n",
       "  <tbody>\n",
       "  </tbody>\n",
       "</table>\n",
       "</div>"
      ],
      "text/plain": [
       "Empty DataFrame\n",
       "Columns: [id, start_date, avg_speed, end_date, length, max_speed, norm_fuel_consumed, type, end_address, start_address, points, tracker_id, duration, avg_speed_calculated]\n",
       "Index: []"
      ]
     },
     "execution_count": 5,
     "metadata": {},
     "output_type": "execute_result"
    }
   ],
   "source": [
    "# check if there are mistakes in the start/end dates\n",
    "df[df.end_date <= df.start_date]"
   ]
  },
  {
   "cell_type": "code",
   "execution_count": 6,
   "metadata": {},
   "outputs": [
    {
     "data": {
      "text/html": [
       "<div>\n",
       "<style scoped>\n",
       "    .dataframe tbody tr th:only-of-type {\n",
       "        vertical-align: middle;\n",
       "    }\n",
       "\n",
       "    .dataframe tbody tr th {\n",
       "        vertical-align: top;\n",
       "    }\n",
       "\n",
       "    .dataframe thead th {\n",
       "        text-align: right;\n",
       "    }\n",
       "</style>\n",
       "<table border=\"1\" class=\"dataframe\">\n",
       "  <thead>\n",
       "    <tr style=\"text-align: right;\">\n",
       "      <th></th>\n",
       "      <th>id</th>\n",
       "      <th>tracker_id</th>\n",
       "    </tr>\n",
       "  </thead>\n",
       "  <tbody>\n",
       "    <tr>\n",
       "      <th>5473</th>\n",
       "      <td>3525.0</td>\n",
       "      <td>3036049</td>\n",
       "    </tr>\n",
       "    <tr>\n",
       "      <th>4370</th>\n",
       "      <td>3525.0</td>\n",
       "      <td>3036047</td>\n",
       "    </tr>\n",
       "    <tr>\n",
       "      <th>4371</th>\n",
       "      <td>3526.0</td>\n",
       "      <td>3036047</td>\n",
       "    </tr>\n",
       "    <tr>\n",
       "      <th>5474</th>\n",
       "      <td>3526.0</td>\n",
       "      <td>3036049</td>\n",
       "    </tr>\n",
       "    <tr>\n",
       "      <th>4372</th>\n",
       "      <td>3527.0</td>\n",
       "      <td>3036047</td>\n",
       "    </tr>\n",
       "    <tr>\n",
       "      <th>...</th>\n",
       "      <td>...</td>\n",
       "      <td>...</td>\n",
       "    </tr>\n",
       "    <tr>\n",
       "      <th>1459</th>\n",
       "      <td>19918.0</td>\n",
       "      <td>877767</td>\n",
       "    </tr>\n",
       "    <tr>\n",
       "      <th>1460</th>\n",
       "      <td>19919.0</td>\n",
       "      <td>877767</td>\n",
       "    </tr>\n",
       "    <tr>\n",
       "      <th>7923</th>\n",
       "      <td>19919.0</td>\n",
       "      <td>3036068</td>\n",
       "    </tr>\n",
       "    <tr>\n",
       "      <th>1461</th>\n",
       "      <td>19920.0</td>\n",
       "      <td>877767</td>\n",
       "    </tr>\n",
       "    <tr>\n",
       "      <th>7924</th>\n",
       "      <td>19920.0</td>\n",
       "      <td>3036068</td>\n",
       "    </tr>\n",
       "  </tbody>\n",
       "</table>\n",
       "<p>2110 rows × 2 columns</p>\n",
       "</div>"
      ],
      "text/plain": [
       "           id  tracker_id\n",
       "5473   3525.0     3036049\n",
       "4370   3525.0     3036047\n",
       "4371   3526.0     3036047\n",
       "5474   3526.0     3036049\n",
       "4372   3527.0     3036047\n",
       "...       ...         ...\n",
       "1459  19918.0      877767\n",
       "1460  19919.0      877767\n",
       "7923  19919.0     3036068\n",
       "1461  19920.0      877767\n",
       "7924  19920.0     3036068\n",
       "\n",
       "[2110 rows x 2 columns]"
      ]
     },
     "execution_count": 6,
     "metadata": {},
     "output_type": "execute_result"
    }
   ],
   "source": [
    "# check if track ids are unique and are not reused for different trackers tracks\n",
    "df.loc[df.duplicated(subset='id', keep=False), ['id', 'tracker_id']].sort_values(by='id')"
   ]
  },
  {
   "cell_type": "code",
   "execution_count": 7,
   "metadata": {},
   "outputs": [],
   "source": [
    "df['track_finished_date'] = pd.to_datetime(df['end_date']).dt.date"
   ]
  },
  {
   "cell_type": "markdown",
   "metadata": {},
   "source": [
    "We want to get statistics on the distance traveled, duration (active and idle time), and average speed for trackers separately for each day."
   ]
  },
  {
   "cell_type": "code",
   "execution_count": 8,
   "metadata": {},
   "outputs": [],
   "source": [
    "# select tracks that start on one day and end on another\n",
    "# we need to split each of them in 2 parts (one for each day)\n",
    "start = df[pd.to_datetime(df.start_date).dt.day != pd.to_datetime(df.end_date).dt.day].copy()\n",
    "end = df[pd.to_datetime(df.start_date).dt.day != pd.to_datetime(df.end_date).dt.day].copy()\n",
    "start['end_date'] = start['start_date'].apply(lambda x: x[:11] + '23:59:59')\n",
    "end['start_date'] = end['end_date'].apply(lambda x: x[:11] + '00:00:00')"
   ]
  },
  {
   "cell_type": "markdown",
   "metadata": {},
   "source": [
    "There are only 2 trackers that have information on fuel consumed, still it would be interesting to have this information visualised."
   ]
  },
  {
   "cell_type": "code",
   "execution_count": 9,
   "metadata": {},
   "outputs": [
    {
     "data": {
      "text/plain": [
       "tracker_id\n",
       "877766    1012\n",
       "877767     450\n",
       "Name: count, dtype: int64"
      ]
     },
     "execution_count": 9,
     "metadata": {},
     "output_type": "execute_result"
    }
   ],
   "source": [
    "df[df.norm_fuel_consumed.notna()].tracker_id.value_counts()"
   ]
  },
  {
   "cell_type": "code",
   "execution_count": 10,
   "metadata": {},
   "outputs": [],
   "source": [
    "\n",
    "start['duration'] = (pd.to_datetime(start.end_date) - pd.to_datetime(start.start_date)).dt.total_seconds() / 3600\n",
    "end['duration'] = (pd.to_datetime(end.end_date) - pd.to_datetime(end.start_date)).dt.total_seconds() / 3600\n",
    "start['length_split'] = round(start['duration'] * start['avg_speed_calculated'], 2)\n",
    "end['length_split'] = round(end['duration'] * end['avg_speed_calculated'], 2)\n",
    "start['norm_fuel_consumed'] = round(start['norm_fuel_consumed'] * start['length_split'] / start['length'], 2)\n",
    "end['norm_fuel_consumed'] = round(end['norm_fuel_consumed'] * end['length_split'] / end['length'], 2)\n",
    "start = start.drop(columns={'length'}).rename(columns={'length_split' : 'length'})\n",
    "end = end.drop(columns={'length'}).rename(columns={'length_split' : 'length'})"
   ]
  },
  {
   "cell_type": "code",
   "execution_count": 11,
   "metadata": {},
   "outputs": [],
   "source": [
    "stats = (df.groupby(['track_finished_date', 'tracker_id'])\n",
    "         .agg({'id': 'count'})\n",
    "         .reset_index()\n",
    "         .rename(columns={'id':'count_finished', 'track_finished_date': 'date'}))"
   ]
  },
  {
   "cell_type": "code",
   "execution_count": 12,
   "metadata": {},
   "outputs": [
    {
     "data": {
      "text/plain": [
       "Index(['id', 'start_date', 'avg_speed', 'end_date', 'length', 'max_speed',\n",
       "       'norm_fuel_consumed', 'type', 'end_address', 'start_address', 'points',\n",
       "       'tracker_id', 'duration', 'avg_speed_calculated',\n",
       "       'track_finished_date'],\n",
       "      dtype='object')"
      ]
     },
     "execution_count": 12,
     "metadata": {},
     "output_type": "execute_result"
    }
   ],
   "source": [
    "df.columns"
   ]
  },
  {
   "cell_type": "code",
   "execution_count": 13,
   "metadata": {},
   "outputs": [],
   "source": [
    "start = start[['id', 'start_date', 'avg_speed', 'end_date', 'length', 'max_speed',\n",
    "        'norm_fuel_consumed', 'type', 'end_address', 'start_address', 'points',\n",
    "        'tracker_id', 'duration', 'avg_speed_calculated',\n",
    "        'track_finished_date']]\n",
    "end = end[['id', 'start_date', 'avg_speed', 'end_date', 'length', 'max_speed',\n",
    "        'norm_fuel_consumed', 'type', 'end_address', 'start_address', 'points',\n",
    "        'tracker_id', 'duration', 'avg_speed_calculated',\n",
    "        'track_finished_date']]"
   ]
  },
  {
   "cell_type": "code",
   "execution_count": 14,
   "metadata": {},
   "outputs": [],
   "source": [
    "df = pd.concat([df[pd.to_datetime(df.start_date).dt.day == pd.to_datetime(df.end_date).dt.day],\n",
    "                start, \n",
    "                end]\n",
    "              ).reset_index(drop=True)\n"
   ]
  },
  {
   "cell_type": "code",
   "execution_count": 15,
   "metadata": {},
   "outputs": [],
   "source": [
    "df['track_active_date'] = pd.to_datetime(df['start_date']).dt.date\n",
    "stats = stats.merge(df.groupby(['track_active_date', 'tracker_id'])\n",
    "                    .agg({'id': 'count'})\n",
    "                    .reset_index()\n",
    "                    .rename(columns={'id':'count_active', 'track_active_date':'date'}), \n",
    "                            on=['date', 'tracker_id'], \n",
    "                            how='outer')"
   ]
  },
  {
   "cell_type": "code",
   "execution_count": 26,
   "metadata": {},
   "outputs": [
    {
     "data": {
      "text/html": [
       "<div>\n",
       "<style scoped>\n",
       "    .dataframe tbody tr th:only-of-type {\n",
       "        vertical-align: middle;\n",
       "    }\n",
       "\n",
       "    .dataframe tbody tr th {\n",
       "        vertical-align: top;\n",
       "    }\n",
       "\n",
       "    .dataframe thead th {\n",
       "        text-align: right;\n",
       "    }\n",
       "</style>\n",
       "<table border=\"1\" class=\"dataframe\">\n",
       "  <thead>\n",
       "    <tr style=\"text-align: right;\">\n",
       "      <th></th>\n",
       "      <th>track_active_date</th>\n",
       "      <th>tracker_id</th>\n",
       "      <th>duration</th>\n",
       "    </tr>\n",
       "  </thead>\n",
       "  <tbody>\n",
       "    <tr>\n",
       "      <th>0</th>\n",
       "      <td>2024-06-26</td>\n",
       "      <td>877766</td>\n",
       "      <td>16.653611</td>\n",
       "    </tr>\n",
       "    <tr>\n",
       "      <th>1</th>\n",
       "      <td>2024-06-26</td>\n",
       "      <td>877767</td>\n",
       "      <td>19.047222</td>\n",
       "    </tr>\n",
       "    <tr>\n",
       "      <th>2</th>\n",
       "      <td>2024-06-26</td>\n",
       "      <td>877768</td>\n",
       "      <td>18.850278</td>\n",
       "    </tr>\n",
       "    <tr>\n",
       "      <th>3</th>\n",
       "      <td>2024-06-26</td>\n",
       "      <td>3036043</td>\n",
       "      <td>7.025833</td>\n",
       "    </tr>\n",
       "    <tr>\n",
       "      <th>4</th>\n",
       "      <td>2024-06-26</td>\n",
       "      <td>3036045</td>\n",
       "      <td>2.933333</td>\n",
       "    </tr>\n",
       "    <tr>\n",
       "      <th>...</th>\n",
       "      <td>...</td>\n",
       "      <td>...</td>\n",
       "      <td>...</td>\n",
       "    </tr>\n",
       "    <tr>\n",
       "      <th>339</th>\n",
       "      <td>2024-07-23</td>\n",
       "      <td>3036043</td>\n",
       "      <td>1.783056</td>\n",
       "    </tr>\n",
       "    <tr>\n",
       "      <th>340</th>\n",
       "      <td>2024-07-23</td>\n",
       "      <td>3036056</td>\n",
       "      <td>2.113611</td>\n",
       "    </tr>\n",
       "    <tr>\n",
       "      <th>341</th>\n",
       "      <td>2024-07-23</td>\n",
       "      <td>3036057</td>\n",
       "      <td>0.665556</td>\n",
       "    </tr>\n",
       "    <tr>\n",
       "      <th>342</th>\n",
       "      <td>2024-07-23</td>\n",
       "      <td>3036068</td>\n",
       "      <td>2.125556</td>\n",
       "    </tr>\n",
       "    <tr>\n",
       "      <th>343</th>\n",
       "      <td>2024-07-23</td>\n",
       "      <td>3036069</td>\n",
       "      <td>3.904722</td>\n",
       "    </tr>\n",
       "  </tbody>\n",
       "</table>\n",
       "<p>344 rows × 3 columns</p>\n",
       "</div>"
      ],
      "text/plain": [
       "    track_active_date  tracker_id   duration\n",
       "0          2024-06-26      877766  16.653611\n",
       "1          2024-06-26      877767  19.047222\n",
       "2          2024-06-26      877768  18.850278\n",
       "3          2024-06-26     3036043   7.025833\n",
       "4          2024-06-26     3036045   2.933333\n",
       "..                ...         ...        ...\n",
       "339        2024-07-23     3036043   1.783056\n",
       "340        2024-07-23     3036056   2.113611\n",
       "341        2024-07-23     3036057   0.665556\n",
       "342        2024-07-23     3036068   2.125556\n",
       "343        2024-07-23     3036069   3.904722\n",
       "\n",
       "[344 rows x 3 columns]"
      ]
     },
     "execution_count": 26,
     "metadata": {},
     "output_type": "execute_result"
    }
   ],
   "source": [
    "(df.groupby(['track_active_date', 'tracker_id'])\n",
    "                    .agg({'duration': 'sum'})\n",
    "                    .reset_index())"
   ]
  },
  {
   "cell_type": "code",
   "execution_count": 27,
   "metadata": {},
   "outputs": [],
   "source": [
    "stats = stats.merge(df.groupby(['track_active_date', 'tracker_id'])\n",
    "                    .agg({'length': 'sum'})\n",
    "                    .reset_index()\n",
    "                    .rename(columns={'track_active_date':'date'}), \n",
    "                            on=['date', 'tracker_id'], \n",
    "                            how='outer')\n",
    "stats = stats.merge(df.groupby(['track_active_date', 'tracker_id'])\n",
    "                    .agg({'duration': 'sum'})\n",
    "                    .reset_index()\n",
    "                    .rename(columns={'track_active_date':'date'}), \n",
    "                            on=['date', 'tracker_id'], \n",
    "                            how='outer')\n",
    "stats['idle_time'] = 24 - stats['duration']\n",
    "stats['avg_speed'] = stats['length'] / stats['duration']"
   ]
  },
  {
   "cell_type": "code",
   "execution_count": 28,
   "metadata": {},
   "outputs": [
    {
     "data": {
      "text/html": [
       "<div>\n",
       "<style scoped>\n",
       "    .dataframe tbody tr th:only-of-type {\n",
       "        vertical-align: middle;\n",
       "    }\n",
       "\n",
       "    .dataframe tbody tr th {\n",
       "        vertical-align: top;\n",
       "    }\n",
       "\n",
       "    .dataframe thead th {\n",
       "        text-align: right;\n",
       "    }\n",
       "</style>\n",
       "<table border=\"1\" class=\"dataframe\">\n",
       "  <thead>\n",
       "    <tr style=\"text-align: right;\">\n",
       "      <th></th>\n",
       "      <th>date</th>\n",
       "      <th>tracker_id</th>\n",
       "      <th>count_finished</th>\n",
       "      <th>count_active</th>\n",
       "      <th>length</th>\n",
       "      <th>duration</th>\n",
       "      <th>idle_time</th>\n",
       "      <th>avg_speed</th>\n",
       "    </tr>\n",
       "  </thead>\n",
       "  <tbody>\n",
       "    <tr>\n",
       "      <th>0</th>\n",
       "      <td>2024-06-26</td>\n",
       "      <td>877766</td>\n",
       "      <td>48</td>\n",
       "      <td>49</td>\n",
       "      <td>724.92</td>\n",
       "      <td>16.653611</td>\n",
       "      <td>7.346389</td>\n",
       "      <td>43.529298</td>\n",
       "    </tr>\n",
       "    <tr>\n",
       "      <th>1</th>\n",
       "      <td>2024-06-26</td>\n",
       "      <td>877767</td>\n",
       "      <td>21</td>\n",
       "      <td>22</td>\n",
       "      <td>850.93</td>\n",
       "      <td>19.047222</td>\n",
       "      <td>4.952778</td>\n",
       "      <td>44.674756</td>\n",
       "    </tr>\n",
       "    <tr>\n",
       "      <th>2</th>\n",
       "      <td>2024-06-26</td>\n",
       "      <td>877768</td>\n",
       "      <td>72</td>\n",
       "      <td>73</td>\n",
       "      <td>805.80</td>\n",
       "      <td>18.850278</td>\n",
       "      <td>5.149722</td>\n",
       "      <td>42.747381</td>\n",
       "    </tr>\n",
       "    <tr>\n",
       "      <th>3</th>\n",
       "      <td>2024-06-26</td>\n",
       "      <td>3036043</td>\n",
       "      <td>55</td>\n",
       "      <td>55</td>\n",
       "      <td>302.33</td>\n",
       "      <td>7.025833</td>\n",
       "      <td>16.974167</td>\n",
       "      <td>43.031194</td>\n",
       "    </tr>\n",
       "    <tr>\n",
       "      <th>4</th>\n",
       "      <td>2024-06-26</td>\n",
       "      <td>3036045</td>\n",
       "      <td>1</td>\n",
       "      <td>1</td>\n",
       "      <td>300.82</td>\n",
       "      <td>2.933333</td>\n",
       "      <td>21.066667</td>\n",
       "      <td>102.552273</td>\n",
       "    </tr>\n",
       "    <tr>\n",
       "      <th>...</th>\n",
       "      <td>...</td>\n",
       "      <td>...</td>\n",
       "      <td>...</td>\n",
       "      <td>...</td>\n",
       "      <td>...</td>\n",
       "      <td>...</td>\n",
       "      <td>...</td>\n",
       "      <td>...</td>\n",
       "    </tr>\n",
       "    <tr>\n",
       "      <th>339</th>\n",
       "      <td>2024-07-23</td>\n",
       "      <td>3036043</td>\n",
       "      <td>14</td>\n",
       "      <td>14</td>\n",
       "      <td>73.94</td>\n",
       "      <td>1.783056</td>\n",
       "      <td>22.216944</td>\n",
       "      <td>41.468141</td>\n",
       "    </tr>\n",
       "    <tr>\n",
       "      <th>340</th>\n",
       "      <td>2024-07-23</td>\n",
       "      <td>3036056</td>\n",
       "      <td>13</td>\n",
       "      <td>13</td>\n",
       "      <td>92.33</td>\n",
       "      <td>2.113611</td>\n",
       "      <td>21.886389</td>\n",
       "      <td>43.683533</td>\n",
       "    </tr>\n",
       "    <tr>\n",
       "      <th>341</th>\n",
       "      <td>2024-07-23</td>\n",
       "      <td>3036057</td>\n",
       "      <td>1</td>\n",
       "      <td>1</td>\n",
       "      <td>64.96</td>\n",
       "      <td>0.665556</td>\n",
       "      <td>23.334444</td>\n",
       "      <td>97.602671</td>\n",
       "    </tr>\n",
       "    <tr>\n",
       "      <th>342</th>\n",
       "      <td>2024-07-23</td>\n",
       "      <td>3036068</td>\n",
       "      <td>13</td>\n",
       "      <td>13</td>\n",
       "      <td>92.23</td>\n",
       "      <td>2.125556</td>\n",
       "      <td>21.874444</td>\n",
       "      <td>43.391009</td>\n",
       "    </tr>\n",
       "    <tr>\n",
       "      <th>343</th>\n",
       "      <td>2024-07-23</td>\n",
       "      <td>3036069</td>\n",
       "      <td>1</td>\n",
       "      <td>1</td>\n",
       "      <td>350.91</td>\n",
       "      <td>3.904722</td>\n",
       "      <td>20.095278</td>\n",
       "      <td>89.868108</td>\n",
       "    </tr>\n",
       "  </tbody>\n",
       "</table>\n",
       "<p>344 rows × 8 columns</p>\n",
       "</div>"
      ],
      "text/plain": [
       "           date  tracker_id  count_finished  count_active  length   duration  \\\n",
       "0    2024-06-26      877766              48            49  724.92  16.653611   \n",
       "1    2024-06-26      877767              21            22  850.93  19.047222   \n",
       "2    2024-06-26      877768              72            73  805.80  18.850278   \n",
       "3    2024-06-26     3036043              55            55  302.33   7.025833   \n",
       "4    2024-06-26     3036045               1             1  300.82   2.933333   \n",
       "..          ...         ...             ...           ...     ...        ...   \n",
       "339  2024-07-23     3036043              14            14   73.94   1.783056   \n",
       "340  2024-07-23     3036056              13            13   92.33   2.113611   \n",
       "341  2024-07-23     3036057               1             1   64.96   0.665556   \n",
       "342  2024-07-23     3036068              13            13   92.23   2.125556   \n",
       "343  2024-07-23     3036069               1             1  350.91   3.904722   \n",
       "\n",
       "     idle_time   avg_speed  \n",
       "0     7.346389   43.529298  \n",
       "1     4.952778   44.674756  \n",
       "2     5.149722   42.747381  \n",
       "3    16.974167   43.031194  \n",
       "4    21.066667  102.552273  \n",
       "..         ...         ...  \n",
       "339  22.216944   41.468141  \n",
       "340  21.886389   43.683533  \n",
       "341  23.334444   97.602671  \n",
       "342  21.874444   43.391009  \n",
       "343  20.095278   89.868108  \n",
       "\n",
       "[344 rows x 8 columns]"
      ]
     },
     "execution_count": 28,
     "metadata": {},
     "output_type": "execute_result"
    }
   ],
   "source": [
    "stats"
   ]
  },
  {
   "cell_type": "code",
   "execution_count": 32,
   "metadata": {},
   "outputs": [
    {
     "ename": "SyntaxError",
     "evalue": "unmatched ']' (2109545264.py, line 1)",
     "output_type": "error",
     "traceback": [
      "\u001b[0;36m  Cell \u001b[0;32mIn[32], line 1\u001b[0;36m\u001b[0m\n\u001b[0;31m    stats.loc[stats.tracker_id == 877766], ['date', 'length']]\u001b[0m\n\u001b[0m                                                             ^\u001b[0m\n\u001b[0;31mSyntaxError\u001b[0m\u001b[0;31m:\u001b[0m unmatched ']'\n"
     ]
    }
   ],
   "source": [
    "stats.loc[stats.tracker_id == 877766], ['date', 'length'].astype({'date':'str'})"
   ]
  },
  {
   "cell_type": "code",
   "execution_count": 60,
   "metadata": {},
   "outputs": [
    {
     "data": {
      "text/plain": [
       "(Index(['date', 'tracker_id', 'count_finished', 'count_active', 'length',\n",
       "        'duration', 'idle_time', 'avg_speed'],\n",
       "       dtype='object'),\n",
       " Index(['tracker_id', 'date', 'mileage'], dtype='object'))"
      ]
     },
     "execution_count": 60,
     "metadata": {},
     "output_type": "execute_result"
    }
   ],
   "source": [
    "stats.columns, dfm.columns"
   ]
  },
  {
   "cell_type": "code",
   "execution_count": 80,
   "metadata": {},
   "outputs": [
    {
     "data": {
      "text/html": [
       "<div>\n",
       "<style scoped>\n",
       "    .dataframe tbody tr th:only-of-type {\n",
       "        vertical-align: middle;\n",
       "    }\n",
       "\n",
       "    .dataframe tbody tr th {\n",
       "        vertical-align: top;\n",
       "    }\n",
       "\n",
       "    .dataframe thead th {\n",
       "        text-align: right;\n",
       "    }\n",
       "</style>\n",
       "<table border=\"1\" class=\"dataframe\">\n",
       "  <thead>\n",
       "    <tr style=\"text-align: right;\">\n",
       "      <th></th>\n",
       "      <th>tracker_id</th>\n",
       "      <th>date</th>\n",
       "      <th>mileage</th>\n",
       "      <th>length</th>\n",
       "      <th>count_finished</th>\n",
       "      <th>count_active</th>\n",
       "      <th>length_diff</th>\n",
       "    </tr>\n",
       "  </thead>\n",
       "  <tbody>\n",
       "    <tr>\n",
       "      <th>292</th>\n",
       "      <td>3036057</td>\n",
       "      <td>2024-07-18</td>\n",
       "      <td>1385.05</td>\n",
       "      <td>1144.22</td>\n",
       "      <td>4.0</td>\n",
       "      <td>4.0</td>\n",
       "      <td>240.83</td>\n",
       "    </tr>\n",
       "    <tr>\n",
       "      <th>276</th>\n",
       "      <td>3036057</td>\n",
       "      <td>2024-07-02</td>\n",
       "      <td>1330.81</td>\n",
       "      <td>1091.56</td>\n",
       "      <td>3.0</td>\n",
       "      <td>3.0</td>\n",
       "      <td>239.25</td>\n",
       "    </tr>\n",
       "    <tr>\n",
       "      <th>412</th>\n",
       "      <td>3036069</td>\n",
       "      <td>2024-07-18</td>\n",
       "      <td>1190.73</td>\n",
       "      <td>987.96</td>\n",
       "      <td>6.0</td>\n",
       "      <td>6.0</td>\n",
       "      <td>202.77</td>\n",
       "    </tr>\n",
       "    <tr>\n",
       "      <th>410</th>\n",
       "      <td>3036069</td>\n",
       "      <td>2024-07-16</td>\n",
       "      <td>1235.33</td>\n",
       "      <td>1069.83</td>\n",
       "      <td>6.0</td>\n",
       "      <td>6.0</td>\n",
       "      <td>165.50</td>\n",
       "    </tr>\n",
       "    <tr>\n",
       "      <th>402</th>\n",
       "      <td>3036069</td>\n",
       "      <td>2024-07-08</td>\n",
       "      <td>1075.85</td>\n",
       "      <td>923.74</td>\n",
       "      <td>4.0</td>\n",
       "      <td>4.0</td>\n",
       "      <td>152.11</td>\n",
       "    </tr>\n",
       "    <tr>\n",
       "      <th>286</th>\n",
       "      <td>3036057</td>\n",
       "      <td>2024-07-12</td>\n",
       "      <td>1143.88</td>\n",
       "      <td>993.86</td>\n",
       "      <td>3.0</td>\n",
       "      <td>3.0</td>\n",
       "      <td>150.02</td>\n",
       "    </tr>\n",
       "    <tr>\n",
       "      <th>406</th>\n",
       "      <td>3036069</td>\n",
       "      <td>2024-07-12</td>\n",
       "      <td>1040.31</td>\n",
       "      <td>903.60</td>\n",
       "      <td>4.0</td>\n",
       "      <td>4.0</td>\n",
       "      <td>136.71</td>\n",
       "    </tr>\n",
       "    <tr>\n",
       "      <th>170</th>\n",
       "      <td>3036045</td>\n",
       "      <td>2024-07-16</td>\n",
       "      <td>549.50</td>\n",
       "      <td>429.11</td>\n",
       "      <td>2.0</td>\n",
       "      <td>2.0</td>\n",
       "      <td>120.39</td>\n",
       "    </tr>\n",
       "    <tr>\n",
       "      <th>282</th>\n",
       "      <td>3036057</td>\n",
       "      <td>2024-07-08</td>\n",
       "      <td>1531.56</td>\n",
       "      <td>1428.01</td>\n",
       "      <td>4.0</td>\n",
       "      <td>4.0</td>\n",
       "      <td>103.55</td>\n",
       "    </tr>\n",
       "    <tr>\n",
       "      <th>416</th>\n",
       "      <td>3036069</td>\n",
       "      <td>2024-07-22</td>\n",
       "      <td>921.15</td>\n",
       "      <td>971.57</td>\n",
       "      <td>5.0</td>\n",
       "      <td>6.0</td>\n",
       "      <td>50.42</td>\n",
       "    </tr>\n",
       "  </tbody>\n",
       "</table>\n",
       "</div>"
      ],
      "text/plain": [
       "     tracker_id        date  mileage   length  count_finished  count_active  \\\n",
       "292     3036057  2024-07-18  1385.05  1144.22             4.0           4.0   \n",
       "276     3036057  2024-07-02  1330.81  1091.56             3.0           3.0   \n",
       "412     3036069  2024-07-18  1190.73   987.96             6.0           6.0   \n",
       "410     3036069  2024-07-16  1235.33  1069.83             6.0           6.0   \n",
       "402     3036069  2024-07-08  1075.85   923.74             4.0           4.0   \n",
       "286     3036057  2024-07-12  1143.88   993.86             3.0           3.0   \n",
       "406     3036069  2024-07-12  1040.31   903.60             4.0           4.0   \n",
       "170     3036045  2024-07-16   549.50   429.11             2.0           2.0   \n",
       "282     3036057  2024-07-08  1531.56  1428.01             4.0           4.0   \n",
       "416     3036069  2024-07-22   921.15   971.57             5.0           6.0   \n",
       "\n",
       "     length_diff  \n",
       "292       240.83  \n",
       "276       239.25  \n",
       "412       202.77  \n",
       "410       165.50  \n",
       "402       152.11  \n",
       "286       150.02  \n",
       "406       136.71  \n",
       "170       120.39  \n",
       "282       103.55  \n",
       "416        50.42  "
      ]
     },
     "execution_count": 80,
     "metadata": {},
     "output_type": "execute_result"
    }
   ],
   "source": [
    "dfm = pd.read_csv('data/mileage.csv')\n",
    "dfm = (dfm.sort_values(by='date').reset_index(drop=True).astype({'date':'str'})\n",
    "        .merge(stats[['date', 'tracker_id', 'length', 'count_finished', 'count_active']].sort_values(by='date').reset_index(drop=True).astype({'date':'str'}), \n",
    "                on=['tracker_id', 'date'], how='outer'))\n",
    "dfm['length_diff'] = abs(dfm.mileage - dfm.length)\n",
    "dfm[dfm['length_diff'] > 2].sort_values(by='length_diff', ascending=False).head(10)"
   ]
  },
  {
   "cell_type": "code",
   "execution_count": 77,
   "metadata": {},
   "outputs": [
    {
     "data": {
      "text/plain": [
       "14"
      ]
     },
     "execution_count": 77,
     "metadata": {},
     "output_type": "execute_result"
    }
   ],
   "source": [
    "dfm[dfm['length_diff'] > 2].tracker_id.nunique()"
   ]
  },
  {
   "cell_type": "code",
   "execution_count": 79,
   "metadata": {},
   "outputs": [
    {
     "data": {
      "text/plain": [
       "0.22826086956521738"
      ]
     },
     "execution_count": 79,
     "metadata": {},
     "output_type": "execute_result"
    }
   ],
   "source": [
    "dfm[(dfm['length_diff'] > 2) & (dfm.count_finished != dfm.count_active)].shape[0]/dfm[dfm['length_diff'] > 2].shape[0]"
   ]
  },
  {
   "cell_type": "code",
   "execution_count": 81,
   "metadata": {},
   "outputs": [
    {
     "data": {
      "text/html": [
       "<div>\n",
       "<style scoped>\n",
       "    .dataframe tbody tr th:only-of-type {\n",
       "        vertical-align: middle;\n",
       "    }\n",
       "\n",
       "    .dataframe tbody tr th {\n",
       "        vertical-align: top;\n",
       "    }\n",
       "\n",
       "    .dataframe thead th {\n",
       "        text-align: right;\n",
       "    }\n",
       "</style>\n",
       "<table border=\"1\" class=\"dataframe\">\n",
       "  <thead>\n",
       "    <tr style=\"text-align: right;\">\n",
       "      <th></th>\n",
       "      <th>id</th>\n",
       "      <th>start_date</th>\n",
       "      <th>end_date</th>\n",
       "      <th>length</th>\n",
       "      <th>start_address</th>\n",
       "      <th>end_address</th>\n",
       "    </tr>\n",
       "  </thead>\n",
       "  <tbody>\n",
       "    <tr>\n",
       "      <th>6667</th>\n",
       "      <td>360.0</td>\n",
       "      <td>2024-07-18 05:15:26</td>\n",
       "      <td>2024-07-18 09:31:29</td>\n",
       "      <td>411.83</td>\n",
       "      <td>Carretera Matehuala-San Luis Potosí, San Luis Potosí City, San Luis Potosí, Mexico, 78319</td>\n",
       "      <td>Avenida Constituyentes - General José Montesinos, Avenida Constituyentes, Mexico City, Miguel Hidalgo, Mexico, 11100</td>\n",
       "    </tr>\n",
       "    <tr>\n",
       "      <th>6668</th>\n",
       "      <td>361.0</td>\n",
       "      <td>2024-07-18 09:31:34</td>\n",
       "      <td>2024-07-18 09:53:48</td>\n",
       "      <td>27.33</td>\n",
       "      <td>Avenida Constituyentes - General José Montesinos, Avenida Constituyentes, Mexico City, Miguel Hidalgo, Mexico, 11100</td>\n",
       "      <td>Viaducto Bicentenario, Tlalnepantla, State of Mexico, Mexico, 54015</td>\n",
       "    </tr>\n",
       "    <tr>\n",
       "      <th>6669</th>\n",
       "      <td>362.0</td>\n",
       "      <td>2024-07-18 11:06:02</td>\n",
       "      <td>2024-07-18 14:10:19</td>\n",
       "      <td>297.18</td>\n",
       "      <td>Carretera Querétaro - San Luis Potosí, Punto Blanco Dos, Guanajuato, Mexico, 37914</td>\n",
       "      <td>Avenida Constituyentes - General José Montesinos, Avenida Constituyentes, Mexico City, Miguel Hidalgo, Mexico, 11100</td>\n",
       "    </tr>\n",
       "    <tr>\n",
       "      <th>6670</th>\n",
       "      <td>363.0</td>\n",
       "      <td>2024-07-18 14:10:24</td>\n",
       "      <td>2024-07-18 18:21:12</td>\n",
       "      <td>407.88</td>\n",
       "      <td>Avenida Constituyentes - General José Montesinos, Avenida Constituyentes, Mexico City, Miguel Hidalgo, Mexico, 11100</td>\n",
       "      <td>Calle José María Mercado, San Luis Potosí City, San Luis Potosí, Mexico, 78319</td>\n",
       "    </tr>\n",
       "  </tbody>\n",
       "</table>\n",
       "</div>"
      ],
      "text/plain": [
       "         id           start_date             end_date  length  \\\n",
       "6667  360.0  2024-07-18 05:15:26  2024-07-18 09:31:29  411.83   \n",
       "6668  361.0  2024-07-18 09:31:34  2024-07-18 09:53:48   27.33   \n",
       "6669  362.0  2024-07-18 11:06:02  2024-07-18 14:10:19  297.18   \n",
       "6670  363.0  2024-07-18 14:10:24  2024-07-18 18:21:12  407.88   \n",
       "\n",
       "                                                                                                             start_address  \\\n",
       "6667                             Carretera Matehuala-San Luis Potosí, San Luis Potosí City, San Luis Potosí, Mexico, 78319   \n",
       "6668  Avenida Constituyentes - General José Montesinos, Avenida Constituyentes, Mexico City, Miguel Hidalgo, Mexico, 11100   \n",
       "6669                                    Carretera Querétaro - San Luis Potosí, Punto Blanco Dos, Guanajuato, Mexico, 37914   \n",
       "6670  Avenida Constituyentes - General José Montesinos, Avenida Constituyentes, Mexico City, Miguel Hidalgo, Mexico, 11100   \n",
       "\n",
       "                                                                                                               end_address  \n",
       "6667  Avenida Constituyentes - General José Montesinos, Avenida Constituyentes, Mexico City, Miguel Hidalgo, Mexico, 11100  \n",
       "6668                                                   Viaducto Bicentenario, Tlalnepantla, State of Mexico, Mexico, 54015  \n",
       "6669  Avenida Constituyentes - General José Montesinos, Avenida Constituyentes, Mexico City, Miguel Hidalgo, Mexico, 11100  \n",
       "6670                                        Calle José María Mercado, San Luis Potosí City, San Luis Potosí, Mexico, 78319  "
      ]
     },
     "metadata": {},
     "output_type": "display_data"
    }
   ],
   "source": [
    "with pd.option_context(\"display.max_rows\", 1200, \"display.max_columns\", 1000, 'display.max_colwidth', 1000):\n",
    "    display(df.loc[df.start_date.str.contains('2024-07-18') & (df.tracker_id == 3036057), \n",
    "            ['id', 'start_date', 'end_date', 'length', 'start_address', 'end_address']])"
   ]
  },
  {
   "cell_type": "code",
   "execution_count": 82,
   "metadata": {},
   "outputs": [
    {
     "data": {
      "text/html": [
       "<div>\n",
       "<style scoped>\n",
       "    .dataframe tbody tr th:only-of-type {\n",
       "        vertical-align: middle;\n",
       "    }\n",
       "\n",
       "    .dataframe tbody tr th {\n",
       "        vertical-align: top;\n",
       "    }\n",
       "\n",
       "    .dataframe thead th {\n",
       "        text-align: right;\n",
       "    }\n",
       "</style>\n",
       "<table border=\"1\" class=\"dataframe\">\n",
       "  <thead>\n",
       "    <tr style=\"text-align: right;\">\n",
       "      <th></th>\n",
       "      <th>id</th>\n",
       "      <th>start_date</th>\n",
       "      <th>end_date</th>\n",
       "      <th>length</th>\n",
       "      <th>start_address</th>\n",
       "      <th>end_address</th>\n",
       "    </tr>\n",
       "  </thead>\n",
       "  <tbody>\n",
       "    <tr>\n",
       "      <th>8457</th>\n",
       "      <td>905.0</td>\n",
       "      <td>2024-07-08 07:41:26</td>\n",
       "      <td>2024-07-08 10:47:26</td>\n",
       "      <td>246.69</td>\n",
       "      <td>A 3, Kitzingen, Bavaria, Germany, 97318</td>\n",
       "      <td>A 3, Dernbach, Puderbach, Landkreis Neuwied, Rhineland-Palatinate, Germany, 56307</td>\n",
       "    </tr>\n",
       "    <tr>\n",
       "      <th>8458</th>\n",
       "      <td>906.0</td>\n",
       "      <td>2024-07-08 11:33:03</td>\n",
       "      <td>2024-07-08 14:34:30</td>\n",
       "      <td>235.62</td>\n",
       "      <td>A 3, Bischbrunn, Verwaltungsgemeinschaft Marktheidenfeld, Bavaria, Germany, 97836</td>\n",
       "      <td>A 3, Rösrath, North Rhine-Westphalia, Germany, 51503</td>\n",
       "    </tr>\n",
       "    <tr>\n",
       "      <th>8459</th>\n",
       "      <td>907.0</td>\n",
       "      <td>2024-07-08 14:39:00</td>\n",
       "      <td>2024-07-08 14:49:41</td>\n",
       "      <td>1.70</td>\n",
       "      <td>A 3, Rösrath, North Rhine-Westphalia, Germany, 51503</td>\n",
       "      <td>A 3, Rösrath, North Rhine-Westphalia, Germany, 51503</td>\n",
       "    </tr>\n",
       "    <tr>\n",
       "      <th>8460</th>\n",
       "      <td>908.0</td>\n",
       "      <td>2024-07-08 14:50:21</td>\n",
       "      <td>2024-07-08 19:43:52</td>\n",
       "      <td>439.73</td>\n",
       "      <td>A 3, Rösrath, North Rhine-Westphalia, Germany, 51503</td>\n",
       "      <td>A 3, Kitzingen, Bavaria, Germany, 97318</td>\n",
       "    </tr>\n",
       "  </tbody>\n",
       "</table>\n",
       "</div>"
      ],
      "text/plain": [
       "         id           start_date             end_date  length  \\\n",
       "8457  905.0  2024-07-08 07:41:26  2024-07-08 10:47:26  246.69   \n",
       "8458  906.0  2024-07-08 11:33:03  2024-07-08 14:34:30  235.62   \n",
       "8459  907.0  2024-07-08 14:39:00  2024-07-08 14:49:41    1.70   \n",
       "8460  908.0  2024-07-08 14:50:21  2024-07-08 19:43:52  439.73   \n",
       "\n",
       "                                                                          start_address  \\\n",
       "8457                                            A 3, Kitzingen, Bavaria, Germany, 97318   \n",
       "8458  A 3, Bischbrunn, Verwaltungsgemeinschaft Marktheidenfeld, Bavaria, Germany, 97836   \n",
       "8459                               A 3, Rösrath, North Rhine-Westphalia, Germany, 51503   \n",
       "8460                               A 3, Rösrath, North Rhine-Westphalia, Germany, 51503   \n",
       "\n",
       "                                                                            end_address  \n",
       "8457  A 3, Dernbach, Puderbach, Landkreis Neuwied, Rhineland-Palatinate, Germany, 56307  \n",
       "8458                               A 3, Rösrath, North Rhine-Westphalia, Germany, 51503  \n",
       "8459                               A 3, Rösrath, North Rhine-Westphalia, Germany, 51503  \n",
       "8460                                            A 3, Kitzingen, Bavaria, Germany, 97318  "
      ]
     },
     "metadata": {},
     "output_type": "display_data"
    }
   ],
   "source": [
    "with pd.option_context(\"display.max_rows\", 1200, \"display.max_columns\", 1000, 'display.max_colwidth', 1000):\n",
    "    display(df.loc[df.start_date.str.contains('2024-07-08') & (df.tracker_id == 3036069), \n",
    "            ['id', 'start_date', 'end_date', 'length', 'start_address', 'end_address']])"
   ]
  },
  {
   "cell_type": "code",
   "execution_count": 84,
   "metadata": {},
   "outputs": [],
   "source": [
    "stats.to_csv('data/stats.csv', index=False)"
   ]
  },
  {
   "cell_type": "code",
   "execution_count": 19,
   "metadata": {},
   "outputs": [],
   "source": [
    "# with pd.option_context(\"display.max_rows\", 1200, \"display.max_columns\", 1000, 'display.max_colwidth', 1000):\n",
    "#     display(df[['avg_speed', 'avg_speed_calculated']])"
   ]
  },
  {
   "cell_type": "code",
   "execution_count": 20,
   "metadata": {},
   "outputs": [],
   "source": [
    "# df.groupby(['tracker_id'])[['avg_speed', 'length', 'norm_fuel_consumed', 'points']].sum()"
   ]
  }
 ],
 "metadata": {
  "kernelspec": {
   "display_name": "base",
   "language": "python",
   "name": "python3"
  },
  "language_info": {
   "codemirror_mode": {
    "name": "ipython",
    "version": 3
   },
   "file_extension": ".py",
   "mimetype": "text/x-python",
   "name": "python",
   "nbconvert_exporter": "python",
   "pygments_lexer": "ipython3",
   "version": "3.11.5"
  }
 },
 "nbformat": 4,
 "nbformat_minor": 2
}
