{
 "cells": [
  {
   "cell_type": "code",
   "execution_count": 1,
   "metadata": {},
   "outputs": [],
   "source": [
    "import pandas as pd\n",
    "import matplotlib.pyplot as plt\n",
    "import seaborn as sns"
   ]
  },
  {
   "cell_type": "code",
   "execution_count": 2,
   "metadata": {},
   "outputs": [
    {
     "data": {
      "text/plain": [
       "(11021,\n",
       " Index(['id', 'start_date', 'avg_speed', 'end_date', 'length', 'max_speed',\n",
       "        'norm_fuel_consumed', 'type', 'end_address', 'start_address', 'points',\n",
       "        'tracker_id'],\n",
       "       dtype='object'))"
      ]
     },
     "execution_count": 2,
     "metadata": {},
     "output_type": "execute_result"
    }
   ],
   "source": [
    "df = pd.read_csv('../data/track.csv', dtype={'id': 'int32'})\n",
    "df.shape[0], df.columns"
   ]
  },
  {
   "cell_type": "markdown",
   "metadata": {},
   "source": [
    "## Exploratory Data Analysis"
   ]
  },
  {
   "cell_type": "markdown",
   "metadata": {},
   "source": [
    "Let's explore the data and look at the main descriptive statistics."
   ]
  },
  {
   "cell_type": "code",
   "execution_count": 3,
   "metadata": {},
   "outputs": [
    {
     "data": {
      "text/plain": [
       "type\n",
       "regular    11021\n",
       "Name: count, dtype: int64"
      ]
     },
     "execution_count": 3,
     "metadata": {},
     "output_type": "execute_result"
    }
   ],
   "source": [
    "# type takes only one value\n",
    "df.type.value_counts()"
   ]
  },
  {
   "cell_type": "code",
   "execution_count": 4,
   "metadata": {},
   "outputs": [
    {
     "data": {
      "text/plain": [
       "id                    False\n",
       "start_date            False\n",
       "avg_speed             False\n",
       "end_date              False\n",
       "length                False\n",
       "max_speed             False\n",
       "norm_fuel_consumed     True\n",
       "type                  False\n",
       "end_address           False\n",
       "start_address         False\n",
       "points                False\n",
       "tracker_id            False\n",
       "dtype: bool"
      ]
     },
     "execution_count": 4,
     "metadata": {},
     "output_type": "execute_result"
    }
   ],
   "source": [
    "# check which columns contain null values if any\n",
    "df.isnull().any()"
   ]
  },
  {
   "cell_type": "code",
   "execution_count": 5,
   "metadata": {},
   "outputs": [
    {
     "data": {
      "text/plain": [
       "0.8560021776608293"
      ]
     },
     "execution_count": 5,
     "metadata": {},
     "output_type": "execute_result"
    }
   ],
   "source": [
    "# find the ratio of missing data on fuel consumption\n",
    "df[df.norm_fuel_consumed.isna()].shape[0] / df.shape[0]"
   ]
  },
  {
   "cell_type": "markdown",
   "metadata": {},
   "source": [
    "There are only two trackers that have information on fuel consumed. Since the data is so limited, there’s no use in showing it on the dashboard."
   ]
  },
  {
   "cell_type": "code",
   "execution_count": 6,
   "metadata": {},
   "outputs": [
    {
     "data": {
      "text/plain": [
       "tracker_id\n",
       "877766    1100\n",
       "877767     487\n",
       "Name: count, dtype: int64"
      ]
     },
     "execution_count": 6,
     "metadata": {},
     "output_type": "execute_result"
    }
   ],
   "source": [
    "df[df.norm_fuel_consumed.notna()].tracker_id.value_counts()"
   ]
  },
  {
   "cell_type": "code",
   "execution_count": 7,
   "metadata": {},
   "outputs": [
    {
     "data": {
      "text/plain": [
       "(DatetimeIndex(['2024-07-10', '2024-07-11'], dtype='datetime64[ns]', freq='D'),\n",
       " DatetimeIndex(['2024-07-10', '2024-07-11'], dtype='datetime64[ns]', freq='D'))"
      ]
     },
     "execution_count": 7,
     "metadata": {},
     "output_type": "execute_result"
    }
   ],
   "source": [
    "# are there any missing dates in the dataset\n",
    "(pd.date_range(start=\"2024-06-24\", end=\"2024-07-23\").difference(pd.to_datetime(df.start_date).dt.date), \n",
    "pd.date_range(start=\"2024-06-24\", end=\"2024-07-23\").difference(pd.to_datetime(df.end_date).dt.date))"
   ]
  },
  {
   "cell_type": "code",
   "execution_count": 8,
   "metadata": {},
   "outputs": [
    {
     "data": {
      "text/plain": [
       "('2024-07-09 04:06:57', '2024-07-12 07:02:44')"
      ]
     },
     "execution_count": 8,
     "metadata": {},
     "output_type": "execute_result"
    }
   ],
   "source": [
    "# we can determine the exact period between the last track on 2024-07-09 and the first on 2024-07-12\n",
    "(df[df.end_date.str.contains('2024-07-09')].end_date.max(),\n",
    "df[df.start_date.str.contains('2024-07-12')].start_date.min())"
   ]
  },
  {
   "cell_type": "code",
   "execution_count": 9,
   "metadata": {},
   "outputs": [
    {
     "data": {
      "text/plain": [
       "Timedelta('3 days 02:55:47')"
      ]
     },
     "execution_count": 9,
     "metadata": {},
     "output_type": "execute_result"
    }
   ],
   "source": [
    "(pd.to_datetime(df[df.start_date.str.contains('2024-07-12')].start_date.min()) - \n",
    " pd.to_datetime(df[df.end_date.str.contains('2024-07-09')].end_date.max()))"
   ]
  },
  {
   "cell_type": "markdown",
   "metadata": {},
   "source": [
    "We can think of several reasons for this: the data was corrupted and deleted, the data was not recorded appropriately, or there were more than two full days off for all drivers in the company (highly unlikely). We should explicitly add information on no tracks completed during this period to the aggregated data."
   ]
  },
  {
   "cell_type": "code",
   "execution_count": 10,
   "metadata": {},
   "outputs": [
    {
     "data": {
      "text/html": [
       "<div>\n",
       "<style scoped>\n",
       "    .dataframe tbody tr th:only-of-type {\n",
       "        vertical-align: middle;\n",
       "    }\n",
       "\n",
       "    .dataframe tbody tr th {\n",
       "        vertical-align: top;\n",
       "    }\n",
       "\n",
       "    .dataframe thead th {\n",
       "        text-align: right;\n",
       "    }\n",
       "</style>\n",
       "<table border=\"1\" class=\"dataframe\">\n",
       "  <thead>\n",
       "    <tr style=\"text-align: right;\">\n",
       "      <th></th>\n",
       "      <th>avg_speed</th>\n",
       "      <th>length</th>\n",
       "      <th>max_speed</th>\n",
       "    </tr>\n",
       "  </thead>\n",
       "  <tbody>\n",
       "    <tr>\n",
       "      <th>count</th>\n",
       "      <td>11021.000000</td>\n",
       "      <td>11021.000000</td>\n",
       "      <td>11021.000000</td>\n",
       "    </tr>\n",
       "    <tr>\n",
       "      <th>mean</th>\n",
       "      <td>42.693676</td>\n",
       "      <td>15.841061</td>\n",
       "      <td>57.607930</td>\n",
       "    </tr>\n",
       "    <tr>\n",
       "      <th>std</th>\n",
       "      <td>8.917772</td>\n",
       "      <td>44.950464</td>\n",
       "      <td>10.689025</td>\n",
       "    </tr>\n",
       "    <tr>\n",
       "      <th>min</th>\n",
       "      <td>4.000000</td>\n",
       "      <td>0.330000</td>\n",
       "      <td>5.000000</td>\n",
       "    </tr>\n",
       "    <tr>\n",
       "      <th>25%</th>\n",
       "      <td>42.000000</td>\n",
       "      <td>4.520000</td>\n",
       "      <td>58.000000</td>\n",
       "    </tr>\n",
       "    <tr>\n",
       "      <th>50%</th>\n",
       "      <td>44.000000</td>\n",
       "      <td>8.170000</td>\n",
       "      <td>59.000000</td>\n",
       "    </tr>\n",
       "    <tr>\n",
       "      <th>75%</th>\n",
       "      <td>45.000000</td>\n",
       "      <td>13.290000</td>\n",
       "      <td>59.000000</td>\n",
       "    </tr>\n",
       "    <tr>\n",
       "      <th>max</th>\n",
       "      <td>109.000000</td>\n",
       "      <td>601.890000</td>\n",
       "      <td>138.000000</td>\n",
       "    </tr>\n",
       "  </tbody>\n",
       "</table>\n",
       "</div>"
      ],
      "text/plain": [
       "          avg_speed        length     max_speed\n",
       "count  11021.000000  11021.000000  11021.000000\n",
       "mean      42.693676     15.841061     57.607930\n",
       "std        8.917772     44.950464     10.689025\n",
       "min        4.000000      0.330000      5.000000\n",
       "25%       42.000000      4.520000     58.000000\n",
       "50%       44.000000      8.170000     59.000000\n",
       "75%       45.000000     13.290000     59.000000\n",
       "max      109.000000    601.890000    138.000000"
      ]
     },
     "execution_count": 10,
     "metadata": {},
     "output_type": "execute_result"
    }
   ],
   "source": [
    "df[['avg_speed', 'length', 'max_speed']].describe()"
   ]
  },
  {
   "cell_type": "code",
   "execution_count": 11,
   "metadata": {},
   "outputs": [],
   "source": [
    "# calculate duration and more accurate average speed for each track \n",
    "df['duration'] = (pd.to_datetime(df.end_date) - pd.to_datetime(df.start_date)).dt.total_seconds() / 3600\n",
    "df['avg_speed_calculated'] = df.length / df['duration']"
   ]
  },
  {
   "cell_type": "markdown",
   "metadata": {},
   "source": [
    "We can visualize the distributions of average speed, length, and duration to spot anomalies in the data."
   ]
  },
  {
   "cell_type": "code",
   "execution_count": 12,
   "metadata": {},
   "outputs": [
    {
     "data": {
      "image/png": "[encoded data removed]",
      "text/plain": [
       "<Figure size 600x2800 with 14 Axes>"
      ]
     },
     "metadata": {},
     "output_type": "display_data"
    }
   ],
   "source": [
    "# distribution of average speed for each tracker individually\n",
    "tracker_list = df.tracker_id.unique()\n",
    "fig, axes = plt.subplots(14, 1, figsize=(6, 28))\n",
    "\n",
    "for tracker, i in zip(tracker_list, range(14)):\n",
    "    ax = sns.histplot(data=df, x=df[df.tracker_id == tracker].avg_speed, ax=axes[i])"
   ]
  },
  {
   "cell_type": "code",
   "execution_count": 13,
   "metadata": {},
   "outputs": [
    {
     "data": {
      "image/png": "[encoded data removed]",
      "text/plain": [
       "<Figure size 600x2800 with 14 Axes>"
      ]
     },
     "metadata": {},
     "output_type": "display_data"
    }
   ],
   "source": [
    "# distribution of track length for each tracker individually\n",
    "fig, axes = plt.subplots(14, 1, figsize=(6, 28))\n",
    "for tracker, i in zip(tracker_list, range(14)):\n",
    "    sns.histplot(data=df, x=df[df.tracker_id == tracker].length, ax=axes[i])"
   ]
  },
  {
   "cell_type": "code",
   "execution_count": 14,
   "metadata": {},
   "outputs": [
    {
     "data": {
      "image/png": "[encoded data removed]",
      "text/plain": [
       "<Figure size 600x2800 with 14 Axes>"
      ]
     },
     "metadata": {},
     "output_type": "display_data"
    }
   ],
   "source": [
    "# distribution of track duration for each tracker individually\n",
    "fig, axes = plt.subplots(14, 1, figsize=(6, 28))\n",
    "for tracker, i in zip(tracker_list, range(14)):\n",
    "    sns.histplot(data=df, x=df[df.tracker_id == tracker].duration, ax=axes[i])"
   ]
  },
  {
   "cell_type": "code",
   "execution_count": 15,
   "metadata": {},
   "outputs": [
    {
     "data": {
      "text/plain": [
       "(3036045, 3036057, 3036069)"
      ]
     },
     "execution_count": 15,
     "metadata": {},
     "output_type": "execute_result"
    }
   ],
   "source": [
    "# the 4th, 8th, and 11th trackers are unusual in terms of average speed, distance traveled, \n",
    "# and duration; in each case, their distributions significantly deviate from normal\n",
    "tracker_list[4], tracker_list[8], tracker_list[11]"
   ]
  },
  {
   "cell_type": "code",
   "execution_count": 16,
   "metadata": {},
   "outputs": [
    {
     "data": {
      "text/html": [
       "<div>\n",
       "<style scoped>\n",
       "    .dataframe tbody tr th:only-of-type {\n",
       "        vertical-align: middle;\n",
       "    }\n",
       "\n",
       "    .dataframe tbody tr th {\n",
       "        vertical-align: top;\n",
       "    }\n",
       "\n",
       "    .dataframe thead th {\n",
       "        text-align: right;\n",
       "    }\n",
       "</style>\n",
       "<table border=\"1\" class=\"dataframe\">\n",
       "  <thead>\n",
       "    <tr style=\"text-align: right;\">\n",
       "      <th></th>\n",
       "      <th>id</th>\n",
       "      <th>start_date</th>\n",
       "      <th>avg_speed</th>\n",
       "      <th>end_date</th>\n",
       "      <th>length</th>\n",
       "      <th>max_speed</th>\n",
       "      <th>norm_fuel_consumed</th>\n",
       "      <th>type</th>\n",
       "      <th>end_address</th>\n",
       "      <th>start_address</th>\n",
       "      <th>points</th>\n",
       "      <th>tracker_id</th>\n",
       "      <th>duration</th>\n",
       "      <th>avg_speed_calculated</th>\n",
       "    </tr>\n",
       "  </thead>\n",
       "  <tbody>\n",
       "    <tr>\n",
       "      <th>4708</th>\n",
       "      <td>208</td>\n",
       "      <td>2024-06-24 10:36:13</td>\n",
       "      <td>101.0</td>\n",
       "      <td>2024-06-24 13:34:42</td>\n",
       "      <td>301.00</td>\n",
       "      <td>130.0</td>\n",
       "      <td>NaN</td>\n",
       "      <td>regular</td>\n",
       "      <td>Texas DPS - Building E, 6100, Guadalupe Street...</td>\n",
       "      <td>Texas DPS - Building E, 6100, Guadalupe Street...</td>\n",
       "      <td>2032.0</td>\n",
       "      <td>3036045</td>\n",
       "      <td>2.974722</td>\n",
       "      <td>101.185918</td>\n",
       "    </tr>\n",
       "    <tr>\n",
       "      <th>4709</th>\n",
       "      <td>209</td>\n",
       "      <td>2024-06-25 01:34:42</td>\n",
       "      <td>101.0</td>\n",
       "      <td>2024-06-25 04:33:14</td>\n",
       "      <td>301.06</td>\n",
       "      <td>130.0</td>\n",
       "      <td>NaN</td>\n",
       "      <td>regular</td>\n",
       "      <td>Texas DPS - Building E, 6100, Guadalupe Street...</td>\n",
       "      <td>Texas DPS - Building E, 6100, Guadalupe Street...</td>\n",
       "      <td>2012.0</td>\n",
       "      <td>3036045</td>\n",
       "      <td>2.975556</td>\n",
       "      <td>101.177745</td>\n",
       "    </tr>\n",
       "    <tr>\n",
       "      <th>4710</th>\n",
       "      <td>210</td>\n",
       "      <td>2024-06-25 04:54:29</td>\n",
       "      <td>102.0</td>\n",
       "      <td>2024-06-25 07:51:13</td>\n",
       "      <td>300.89</td>\n",
       "      <td>134.0</td>\n",
       "      <td>NaN</td>\n",
       "      <td>regular</td>\n",
       "      <td>Texas DPS - Building E, 6100, Guadalupe Street...</td>\n",
       "      <td>Texas DPS - Building E, 6100, Guadalupe Street...</td>\n",
       "      <td>2001.0</td>\n",
       "      <td>3036045</td>\n",
       "      <td>2.945556</td>\n",
       "      <td>102.150509</td>\n",
       "    </tr>\n",
       "  </tbody>\n",
       "</table>\n",
       "</div>"
      ],
      "text/plain": [
       "       id           start_date  avg_speed             end_date  length  \\\n",
       "4708  208  2024-06-24 10:36:13      101.0  2024-06-24 13:34:42  301.00   \n",
       "4709  209  2024-06-25 01:34:42      101.0  2024-06-25 04:33:14  301.06   \n",
       "4710  210  2024-06-25 04:54:29      102.0  2024-06-25 07:51:13  300.89   \n",
       "\n",
       "      max_speed  norm_fuel_consumed     type  \\\n",
       "4708      130.0                 NaN  regular   \n",
       "4709      130.0                 NaN  regular   \n",
       "4710      134.0                 NaN  regular   \n",
       "\n",
       "                                            end_address  \\\n",
       "4708  Texas DPS - Building E, 6100, Guadalupe Street...   \n",
       "4709  Texas DPS - Building E, 6100, Guadalupe Street...   \n",
       "4710  Texas DPS - Building E, 6100, Guadalupe Street...   \n",
       "\n",
       "                                          start_address  points  tracker_id  \\\n",
       "4708  Texas DPS - Building E, 6100, Guadalupe Street...  2032.0     3036045   \n",
       "4709  Texas DPS - Building E, 6100, Guadalupe Street...  2012.0     3036045   \n",
       "4710  Texas DPS - Building E, 6100, Guadalupe Street...  2001.0     3036045   \n",
       "\n",
       "      duration  avg_speed_calculated  \n",
       "4708  2.974722            101.185918  \n",
       "4709  2.975556            101.177745  \n",
       "4710  2.945556            102.150509  "
      ]
     },
     "execution_count": 16,
     "metadata": {},
     "output_type": "execute_result"
    }
   ],
   "source": [
    "# look at the first 3 rows of one of the trackers\n",
    "df[df.tracker_id == 3036045].head(3)"
   ]
  },
  {
   "cell_type": "code",
   "execution_count": 17,
   "metadata": {},
   "outputs": [
    {
     "data": {
      "text/html": [
       "<div>\n",
       "<style scoped>\n",
       "    .dataframe tbody tr th:only-of-type {\n",
       "        vertical-align: middle;\n",
       "    }\n",
       "\n",
       "    .dataframe tbody tr th {\n",
       "        vertical-align: top;\n",
       "    }\n",
       "\n",
       "    .dataframe thead th {\n",
       "        text-align: right;\n",
       "    }\n",
       "</style>\n",
       "<table border=\"1\" class=\"dataframe\">\n",
       "  <thead>\n",
       "    <tr style=\"text-align: right;\">\n",
       "      <th></th>\n",
       "      <th>start_address</th>\n",
       "      <th>end_address</th>\n",
       "    </tr>\n",
       "  </thead>\n",
       "  <tbody>\n",
       "    <tr>\n",
       "      <th>4708</th>\n",
       "      <td>Texas DPS - Building E, 6100, Guadalupe Street, Austin, Texas, United States, 78752</td>\n",
       "      <td>Texas DPS - Building E, 6100, Guadalupe Street, Austin, Texas, United States, 78752</td>\n",
       "    </tr>\n",
       "  </tbody>\n",
       "</table>\n",
       "</div>"
      ],
      "text/plain": [
       "                                                                            start_address  \\\n",
       "4708  Texas DPS - Building E, 6100, Guadalupe Street, Austin, Texas, United States, 78752   \n",
       "\n",
       "                                                                              end_address  \n",
       "4708  Texas DPS - Building E, 6100, Guadalupe Street, Austin, Texas, United States, 78752  "
      ]
     },
     "metadata": {},
     "output_type": "display_data"
    }
   ],
   "source": [
    "with pd.option_context(\"display.max_rows\", 1200, \"display.max_columns\", 1000, 'display.max_colwidth', 1000):\n",
    "    display(df.loc[df.tracker_id == 3036045, ['start_address', 'end_address']].head(1))"
   ]
  },
  {
   "cell_type": "code",
   "execution_count": 18,
   "metadata": {},
   "outputs": [
    {
     "data": {
      "text/plain": [
       "(0.7906976744186046, 0.0, 0.6976744186046512)"
      ]
     },
     "execution_count": 18,
     "metadata": {},
     "output_type": "execute_result"
    }
   ],
   "source": [
    "# the proportion of tracks where the starting and ending addresses coincide\n",
    "(df[(df.tracker_id == 3036045) & (df.start_address == df.end_address)].shape[0] / df[(df.tracker_id == 3036045)].shape[0],\n",
    "df[(df.tracker_id == 3036057) & (df.start_address == df.end_address)].shape[0] / df[(df.tracker_id == 3036045)].shape[0],\n",
    "df[(df.tracker_id == 3036069) & (df.start_address == df.end_address)].shape[0] / df[(df.tracker_id == 3036045)].shape[0])"
   ]
  },
  {
   "cell_type": "code",
   "execution_count": 19,
   "metadata": {},
   "outputs": [
    {
     "data": {
      "text/plain": [
       "tracker_id\n",
       "3036045    34\n",
       "3036069    30\n",
       "3036043     4\n",
       "877768      2\n",
       "3036070     2\n",
       "3036071     2\n",
       "3036056     1\n",
       "Name: count, dtype: int64"
      ]
     },
     "execution_count": 19,
     "metadata": {},
     "output_type": "execute_result"
    }
   ],
   "source": [
    "# the same happens with other trackers, but to a much lesser extent\n",
    "df[(df.start_address == df.end_address)].tracker_id.value_counts()"
   ]
  },
  {
   "cell_type": "code",
   "execution_count": 20,
   "metadata": {},
   "outputs": [
    {
     "data": {
      "text/plain": [
       "tracker_id\n",
       "3036069    92\n",
       "3036057    65\n",
       "3036045    43\n",
       "Name: count, dtype: int64"
      ]
     },
     "execution_count": 20,
     "metadata": {},
     "output_type": "execute_result"
    }
   ],
   "source": [
    "# let's see how many tracks are available for this 3 trackers and compare the numbers with other trackers\n",
    "df[df.tracker_id.isin([3036045, 3036057, 3036069])].tracker_id.value_counts()"
   ]
  },
  {
   "cell_type": "code",
   "execution_count": 21,
   "metadata": {},
   "outputs": [
    {
     "data": {
      "text/plain": [
       "tracker_id\n",
       "877768     1770\n",
       "3036043    1351\n",
       "3036056    1225\n",
       "877766     1100\n",
       "3036068    1073\n",
       "3036070    1044\n",
       "3036060     834\n",
       "3036047     716\n",
       "3036071     617\n",
       "3036049     604\n",
       "877767      487\n",
       "Name: count, dtype: int64"
      ]
     },
     "execution_count": 21,
     "metadata": {},
     "output_type": "execute_result"
    }
   ],
   "source": [
    "df[~df.tracker_id.isin([3036045, 3036057, 3036069])].tracker_id.value_counts()"
   ]
  },
  {
   "cell_type": "code",
   "execution_count": 22,
   "metadata": {},
   "outputs": [
    {
     "data": {
      "text/html": [
       "<div>\n",
       "<style scoped>\n",
       "    .dataframe tbody tr th:only-of-type {\n",
       "        vertical-align: middle;\n",
       "    }\n",
       "\n",
       "    .dataframe tbody tr th {\n",
       "        vertical-align: top;\n",
       "    }\n",
       "\n",
       "    .dataframe thead th {\n",
       "        text-align: right;\n",
       "    }\n",
       "</style>\n",
       "<table border=\"1\" class=\"dataframe\">\n",
       "  <thead>\n",
       "    <tr style=\"text-align: right;\">\n",
       "      <th></th>\n",
       "      <th>tracker_id</th>\n",
       "      <th>length_mean</th>\n",
       "      <th>duration_mean</th>\n",
       "      <th>avg_speed</th>\n",
       "      <th>count</th>\n",
       "    </tr>\n",
       "  </thead>\n",
       "  <tbody>\n",
       "    <tr>\n",
       "      <th>0</th>\n",
       "      <td>877766</td>\n",
       "      <td>17.259245</td>\n",
       "      <td>0.387908</td>\n",
       "      <td>44.493132</td>\n",
       "      <td>1100</td>\n",
       "    </tr>\n",
       "    <tr>\n",
       "      <th>1</th>\n",
       "      <td>877767</td>\n",
       "      <td>44.392402</td>\n",
       "      <td>0.989344</td>\n",
       "      <td>44.870540</td>\n",
       "      <td>487</td>\n",
       "    </tr>\n",
       "    <tr>\n",
       "      <th>2</th>\n",
       "      <td>877768</td>\n",
       "      <td>11.443718</td>\n",
       "      <td>0.265586</td>\n",
       "      <td>43.088506</td>\n",
       "      <td>1770</td>\n",
       "    </tr>\n",
       "    <tr>\n",
       "      <th>3</th>\n",
       "      <td>3036043</td>\n",
       "      <td>5.376107</td>\n",
       "      <td>0.126264</td>\n",
       "      <td>42.578134</td>\n",
       "      <td>1351</td>\n",
       "    </tr>\n",
       "    <tr>\n",
       "      <th>4</th>\n",
       "      <td>3036045</td>\n",
       "      <td>309.993023</td>\n",
       "      <td>3.042590</td>\n",
       "      <td>101.884572</td>\n",
       "      <td>43</td>\n",
       "    </tr>\n",
       "    <tr>\n",
       "      <th>5</th>\n",
       "      <td>3036047</td>\n",
       "      <td>8.404427</td>\n",
       "      <td>0.185500</td>\n",
       "      <td>45.306772</td>\n",
       "      <td>716</td>\n",
       "    </tr>\n",
       "    <tr>\n",
       "      <th>6</th>\n",
       "      <td>3036049</td>\n",
       "      <td>11.052699</td>\n",
       "      <td>0.253362</td>\n",
       "      <td>43.624164</td>\n",
       "      <td>604</td>\n",
       "    </tr>\n",
       "    <tr>\n",
       "      <th>7</th>\n",
       "      <td>3036056</td>\n",
       "      <td>6.948539</td>\n",
       "      <td>0.161459</td>\n",
       "      <td>43.036005</td>\n",
       "      <td>1225</td>\n",
       "    </tr>\n",
       "    <tr>\n",
       "      <th>8</th>\n",
       "      <td>3036057</td>\n",
       "      <td>391.472923</td>\n",
       "      <td>4.039962</td>\n",
       "      <td>96.900161</td>\n",
       "      <td>65</td>\n",
       "    </tr>\n",
       "    <tr>\n",
       "      <th>9</th>\n",
       "      <td>3036060</td>\n",
       "      <td>6.756547</td>\n",
       "      <td>0.158535</td>\n",
       "      <td>42.618777</td>\n",
       "      <td>834</td>\n",
       "    </tr>\n",
       "    <tr>\n",
       "      <th>10</th>\n",
       "      <td>3036068</td>\n",
       "      <td>8.763458</td>\n",
       "      <td>0.205082</td>\n",
       "      <td>42.731575</td>\n",
       "      <td>1073</td>\n",
       "    </tr>\n",
       "    <tr>\n",
       "      <th>11</th>\n",
       "      <td>3036069</td>\n",
       "      <td>238.486196</td>\n",
       "      <td>2.869429</td>\n",
       "      <td>83.112761</td>\n",
       "      <td>92</td>\n",
       "    </tr>\n",
       "    <tr>\n",
       "      <th>12</th>\n",
       "      <td>3036070</td>\n",
       "      <td>3.713362</td>\n",
       "      <td>0.092670</td>\n",
       "      <td>40.070918</td>\n",
       "      <td>1044</td>\n",
       "    </tr>\n",
       "    <tr>\n",
       "      <th>13</th>\n",
       "      <td>3036071</td>\n",
       "      <td>9.116904</td>\n",
       "      <td>0.215765</td>\n",
       "      <td>42.253880</td>\n",
       "      <td>617</td>\n",
       "    </tr>\n",
       "  </tbody>\n",
       "</table>\n",
       "</div>"
      ],
      "text/plain": [
       "    tracker_id  length_mean  duration_mean   avg_speed  count\n",
       "0       877766    17.259245       0.387908   44.493132   1100\n",
       "1       877767    44.392402       0.989344   44.870540    487\n",
       "2       877768    11.443718       0.265586   43.088506   1770\n",
       "3      3036043     5.376107       0.126264   42.578134   1351\n",
       "4      3036045   309.993023       3.042590  101.884572     43\n",
       "5      3036047     8.404427       0.185500   45.306772    716\n",
       "6      3036049    11.052699       0.253362   43.624164    604\n",
       "7      3036056     6.948539       0.161459   43.036005   1225\n",
       "8      3036057   391.472923       4.039962   96.900161     65\n",
       "9      3036060     6.756547       0.158535   42.618777    834\n",
       "10     3036068     8.763458       0.205082   42.731575   1073\n",
       "11     3036069   238.486196       2.869429   83.112761     92\n",
       "12     3036070     3.713362       0.092670   40.070918   1044\n",
       "13     3036071     9.116904       0.215765   42.253880    617"
      ]
     },
     "execution_count": 22,
     "metadata": {},
     "output_type": "execute_result"
    }
   ],
   "source": [
    "\n",
    "# calculate the averages for each tracker individually\n",
    "grouped = df.groupby('tracker_id', as_index=False).agg(length_mean=('length', 'mean'),\n",
    "                                                       duration_mean=('duration', 'mean'),\n",
    "                                                       length_sum=('length', 'sum'),\n",
    "                                                       duration_sum=('duration', 'sum'),\n",
    "                                                       count=('id', 'count'))\n",
    "grouped['avg_speed'] = grouped['length_sum'] / grouped['duration_sum']\n",
    "grouped[['tracker_id', 'length_mean', 'duration_mean', 'avg_speed', 'count']]\n"
   ]
  },
  {
   "cell_type": "markdown",
   "metadata": {},
   "source": [
    "We see that trackers 3036045, 3036057, and 3036069 differ significantly from other trackers in terms of average length, duration, speed and number of tracks. Let's continue exploring the data after it has been aggregated by date."
   ]
  },
  {
   "cell_type": "code",
   "execution_count": 23,
   "metadata": {},
   "outputs": [
    {
     "data": {
      "text/html": [
       "<div>\n",
       "<style scoped>\n",
       "    .dataframe tbody tr th:only-of-type {\n",
       "        vertical-align: middle;\n",
       "    }\n",
       "\n",
       "    .dataframe tbody tr th {\n",
       "        vertical-align: top;\n",
       "    }\n",
       "\n",
       "    .dataframe thead th {\n",
       "        text-align: right;\n",
       "    }\n",
       "</style>\n",
       "<table border=\"1\" class=\"dataframe\">\n",
       "  <thead>\n",
       "    <tr style=\"text-align: right;\">\n",
       "      <th></th>\n",
       "      <th>id</th>\n",
       "      <th>tracker_id</th>\n",
       "    </tr>\n",
       "  </thead>\n",
       "  <tbody>\n",
       "    <tr>\n",
       "      <th>4751</th>\n",
       "      <td>3468</td>\n",
       "      <td>3036047</td>\n",
       "    </tr>\n",
       "    <tr>\n",
       "      <th>5905</th>\n",
       "      <td>3468</td>\n",
       "      <td>3036049</td>\n",
       "    </tr>\n",
       "    <tr>\n",
       "      <th>5906</th>\n",
       "      <td>3469</td>\n",
       "      <td>3036049</td>\n",
       "    </tr>\n",
       "    <tr>\n",
       "      <th>4752</th>\n",
       "      <td>3469</td>\n",
       "      <td>3036047</td>\n",
       "    </tr>\n",
       "    <tr>\n",
       "      <th>4753</th>\n",
       "      <td>3470</td>\n",
       "      <td>3036047</td>\n",
       "    </tr>\n",
       "    <tr>\n",
       "      <th>5907</th>\n",
       "      <td>3470</td>\n",
       "      <td>3036049</td>\n",
       "    </tr>\n",
       "  </tbody>\n",
       "</table>\n",
       "</div>"
      ],
      "text/plain": [
       "        id  tracker_id\n",
       "4751  3468     3036047\n",
       "5905  3468     3036049\n",
       "5906  3469     3036049\n",
       "4752  3469     3036047\n",
       "4753  3470     3036047\n",
       "5907  3470     3036049"
      ]
     },
     "execution_count": 23,
     "metadata": {},
     "output_type": "execute_result"
    }
   ],
   "source": [
    "# check if track ids are unique and are not reused for different trackers\n",
    "df.loc[df.duplicated(subset='id', keep=False), ['id', 'tracker_id']].sort_values(by='id').head(6)"
   ]
  },
  {
   "cell_type": "code",
   "execution_count": 24,
   "metadata": {},
   "outputs": [
    {
     "data": {
      "text/html": [
       "<div>\n",
       "<style scoped>\n",
       "    .dataframe tbody tr th:only-of-type {\n",
       "        vertical-align: middle;\n",
       "    }\n",
       "\n",
       "    .dataframe tbody tr th {\n",
       "        vertical-align: top;\n",
       "    }\n",
       "\n",
       "    .dataframe thead th {\n",
       "        text-align: right;\n",
       "    }\n",
       "</style>\n",
       "<table border=\"1\" class=\"dataframe\">\n",
       "  <thead>\n",
       "    <tr style=\"text-align: right;\">\n",
       "      <th></th>\n",
       "      <th>id</th>\n",
       "      <th>tracker_id</th>\n",
       "    </tr>\n",
       "  </thead>\n",
       "  <tbody>\n",
       "  </tbody>\n",
       "</table>\n",
       "</div>"
      ],
      "text/plain": [
       "Empty DataFrame\n",
       "Columns: [id, tracker_id]\n",
       "Index: []"
      ]
     },
     "execution_count": 24,
     "metadata": {},
     "output_type": "execute_result"
    }
   ],
   "source": [
    "# check if track ids are repeated for the same tracker\n",
    "df.loc[df.duplicated(subset=['id', 'tracker_id'], keep=False), ['id', 'tracker_id']].sort_values(by='id')"
   ]
  },
  {
   "cell_type": "markdown",
   "metadata": {},
   "source": [
    "Track ids are still usable with limitations since they are not duplicated for the same tracker."
   ]
  },
  {
   "cell_type": "markdown",
   "metadata": {},
   "source": [
    "## Data Aggregation, Cleaning, and Missing Value Management"
   ]
  },
  {
   "cell_type": "markdown",
   "metadata": {},
   "source": [
    "We want to get statistics on the number of finished tracks for each day, distance traveled, duration (active and off-track time), and average speed for trackers separately for each day."
   ]
  },
  {
   "cell_type": "code",
   "execution_count": 25,
   "metadata": {},
   "outputs": [
    {
     "data": {
      "text/plain": [
       "5.948888888888889"
      ]
     },
     "execution_count": 25,
     "metadata": {},
     "output_type": "execute_result"
    }
   ],
   "source": [
    "# no tracks with duration > 24 hours\n",
    "df['duration'].max()"
   ]
  },
  {
   "cell_type": "code",
   "execution_count": 26,
   "metadata": {},
   "outputs": [
    {
     "data": {
      "text/html": [
       "<div>\n",
       "<style scoped>\n",
       "    .dataframe tbody tr th:only-of-type {\n",
       "        vertical-align: middle;\n",
       "    }\n",
       "\n",
       "    .dataframe tbody tr th {\n",
       "        vertical-align: top;\n",
       "    }\n",
       "\n",
       "    .dataframe thead th {\n",
       "        text-align: right;\n",
       "    }\n",
       "</style>\n",
       "<table border=\"1\" class=\"dataframe\">\n",
       "  <thead>\n",
       "    <tr style=\"text-align: right;\">\n",
       "      <th></th>\n",
       "      <th>id</th>\n",
       "      <th>start_date</th>\n",
       "      <th>avg_speed</th>\n",
       "      <th>end_date</th>\n",
       "      <th>length</th>\n",
       "      <th>max_speed</th>\n",
       "      <th>norm_fuel_consumed</th>\n",
       "      <th>type</th>\n",
       "      <th>end_address</th>\n",
       "      <th>start_address</th>\n",
       "      <th>points</th>\n",
       "      <th>tracker_id</th>\n",
       "      <th>duration</th>\n",
       "      <th>avg_speed_calculated</th>\n",
       "    </tr>\n",
       "  </thead>\n",
       "  <tbody>\n",
       "  </tbody>\n",
       "</table>\n",
       "</div>"
      ],
      "text/plain": [
       "Empty DataFrame\n",
       "Columns: [id, start_date, avg_speed, end_date, length, max_speed, norm_fuel_consumed, type, end_address, start_address, points, tracker_id, duration, avg_speed_calculated]\n",
       "Index: []"
      ]
     },
     "execution_count": 26,
     "metadata": {},
     "output_type": "execute_result"
    }
   ],
   "source": [
    "# check if there are mistakes in the start/end dates\n",
    "df[df.end_date <= df.start_date]"
   ]
  },
  {
   "cell_type": "code",
   "execution_count": 27,
   "metadata": {},
   "outputs": [],
   "source": [
    "# create a column with the dates when tracks were finished\n",
    "df['track_finished_date'] = pd.to_datetime(df['end_date']).dt.date"
   ]
  },
  {
   "cell_type": "code",
   "execution_count": 28,
   "metadata": {},
   "outputs": [],
   "source": [
    "# select tracks that start on one day and end on another\n",
    "# we need to split each of them in 2 parts (one for each day)\n",
    "start = df[pd.to_datetime(df.start_date).dt.day != pd.to_datetime(df.end_date).dt.day].copy()\n",
    "end = df[pd.to_datetime(df.start_date).dt.day != pd.to_datetime(df.end_date).dt.day].copy()\n",
    "start['end_date'] = start['start_date'].apply(lambda x: x[:11] + '23:59:59')\n",
    "end['start_date'] = end['end_date'].apply(lambda x: x[:11] + '00:00:00')"
   ]
  },
  {
   "cell_type": "code",
   "execution_count": 29,
   "metadata": {},
   "outputs": [],
   "source": [
    "\n",
    "start['duration'] = (pd.to_datetime(start.end_date) - pd.to_datetime(start.start_date)).dt.total_seconds() / 3600\n",
    "end['duration'] = (pd.to_datetime(end.end_date) - pd.to_datetime(end.start_date)).dt.total_seconds() / 3600\n",
    "\n",
    "# using the duration data and accurately calculated average speed, \n",
    "# we can determine the distance traveled for tracks that span two days, broken down by each day\n",
    "start['length_split'] = round(start['duration'] * start['avg_speed_calculated'], 2)\n",
    "end['length_split'] = round(end['duration'] * end['avg_speed_calculated'], 2)\n",
    "\n",
    "# we should note that there is some degree of inaccuracy in these calculations\n",
    "# because we assume that vehicle moved with the same average speed during the whole track\n",
    "# same with fuel \n",
    "start['norm_fuel_consumed'] = round(start['norm_fuel_consumed'] * start['length_split'] / start['length'], 2)\n",
    "end['norm_fuel_consumed'] = round(end['norm_fuel_consumed'] * end['length_split'] / end['length'], 2)\n",
    "\n",
    "# we don't need original (full) track length any more\n",
    "start = start.drop(columns={'length'}).rename(columns={'length_split' : 'length'})\n",
    "end = end.drop(columns={'length'}).rename(columns={'length_split' : 'length'})"
   ]
  },
  {
   "cell_type": "code",
   "execution_count": 30,
   "metadata": {},
   "outputs": [],
   "source": [
    "# create a stats dataframe with aggregated data on the number of completed tracks for each tracker per day\n",
    "stats = (df.groupby(['track_finished_date', 'tracker_id'])\n",
    "         .agg({'id': 'count'})\n",
    "         .reset_index()\n",
    "         .rename(columns={'id':'count_finished', 'track_finished_date': 'date'}))"
   ]
  },
  {
   "cell_type": "code",
   "execution_count": 31,
   "metadata": {},
   "outputs": [
    {
     "data": {
      "text/plain": [
       "Index(['id', 'start_date', 'avg_speed', 'end_date', 'length', 'max_speed',\n",
       "       'norm_fuel_consumed', 'type', 'end_address', 'start_address', 'points',\n",
       "       'tracker_id', 'duration', 'avg_speed_calculated',\n",
       "       'track_finished_date'],\n",
       "      dtype='object')"
      ]
     },
     "execution_count": 31,
     "metadata": {},
     "output_type": "execute_result"
    }
   ],
   "source": [
    "df.columns"
   ]
  },
  {
   "cell_type": "code",
   "execution_count": 32,
   "metadata": {},
   "outputs": [],
   "source": [
    "start = start[['id', 'start_date', 'avg_speed', 'end_date', 'length', 'max_speed',\n",
    "        'norm_fuel_consumed', 'type', 'end_address', 'start_address', 'points',\n",
    "        'tracker_id', 'duration', 'avg_speed_calculated',\n",
    "        'track_finished_date']]\n",
    "end = end[['id', 'start_date', 'avg_speed', 'end_date', 'length', 'max_speed',\n",
    "        'norm_fuel_consumed', 'type', 'end_address', 'start_address', 'points',\n",
    "        'tracker_id', 'duration', 'avg_speed_calculated',\n",
    "        'track_finished_date']]"
   ]
  },
  {
   "cell_type": "code",
   "execution_count": 33,
   "metadata": {},
   "outputs": [],
   "source": [
    "# replace the entries of tracks that span two days with two separate entries: one for the start day and another for the end day\n",
    "df = pd.concat([df[pd.to_datetime(df.start_date).dt.day == pd.to_datetime(df.end_date).dt.day],\n",
    "                start, \n",
    "                end]\n",
    "              ).reset_index(drop=True)\n"
   ]
  },
  {
   "cell_type": "code",
   "execution_count": 34,
   "metadata": {},
   "outputs": [],
   "source": [
    "# add aggregated length, duration, off-track time and average speed\n",
    "df['track_active_date'] = pd.to_datetime(df['start_date']).dt.date\n",
    "stats = stats.merge(df.groupby(['track_active_date', 'tracker_id'])\n",
    "                    .agg({'length': 'sum'})\n",
    "                    .reset_index()\n",
    "                    .rename(columns={'track_active_date':'date'}), \n",
    "                            on=['date', 'tracker_id'], \n",
    "                            how='outer')\n",
    "stats = stats.merge(df.groupby(['track_active_date', 'tracker_id'])\n",
    "                    .agg({'duration': 'sum'})\n",
    "                    .reset_index()\n",
    "                    .rename(columns={'track_active_date':'date'}), \n",
    "                            on=['date', 'tracker_id'], \n",
    "                            how='outer')\n",
    "stats['offtrack_time'] = 24 - stats['duration']\n",
    "stats['avg_speed'] = stats['length'] / stats['duration']"
   ]
  },
  {
   "cell_type": "code",
   "execution_count": 35,
   "metadata": {},
   "outputs": [
    {
     "data": {
      "text/html": [
       "<div>\n",
       "<style scoped>\n",
       "    .dataframe tbody tr th:only-of-type {\n",
       "        vertical-align: middle;\n",
       "    }\n",
       "\n",
       "    .dataframe tbody tr th {\n",
       "        vertical-align: top;\n",
       "    }\n",
       "\n",
       "    .dataframe thead th {\n",
       "        text-align: right;\n",
       "    }\n",
       "</style>\n",
       "<table border=\"1\" class=\"dataframe\">\n",
       "  <thead>\n",
       "    <tr style=\"text-align: right;\">\n",
       "      <th></th>\n",
       "      <th>date</th>\n",
       "      <th>tracker_id</th>\n",
       "      <th>count_finished</th>\n",
       "      <th>length</th>\n",
       "      <th>duration</th>\n",
       "      <th>offtrack_time</th>\n",
       "      <th>avg_speed</th>\n",
       "    </tr>\n",
       "  </thead>\n",
       "  <tbody>\n",
       "    <tr>\n",
       "      <th>0</th>\n",
       "      <td>2024-06-24</td>\n",
       "      <td>877766</td>\n",
       "      <td>47</td>\n",
       "      <td>739.75</td>\n",
       "      <td>16.796389</td>\n",
       "      <td>7.203611</td>\n",
       "      <td>44.042205</td>\n",
       "    </tr>\n",
       "    <tr>\n",
       "      <th>1</th>\n",
       "      <td>2024-06-24</td>\n",
       "      <td>877767</td>\n",
       "      <td>20</td>\n",
       "      <td>856.61</td>\n",
       "      <td>19.289444</td>\n",
       "      <td>4.710556</td>\n",
       "      <td>44.408226</td>\n",
       "    </tr>\n",
       "    <tr>\n",
       "      <th>2</th>\n",
       "      <td>2024-06-24</td>\n",
       "      <td>877768</td>\n",
       "      <td>68</td>\n",
       "      <td>829.97</td>\n",
       "      <td>19.137222</td>\n",
       "      <td>4.862778</td>\n",
       "      <td>43.369408</td>\n",
       "    </tr>\n",
       "    <tr>\n",
       "      <th>3</th>\n",
       "      <td>2024-06-24</td>\n",
       "      <td>3036043</td>\n",
       "      <td>53</td>\n",
       "      <td>306.53</td>\n",
       "      <td>7.116389</td>\n",
       "      <td>16.883611</td>\n",
       "      <td>43.073812</td>\n",
       "    </tr>\n",
       "    <tr>\n",
       "      <th>4</th>\n",
       "      <td>2024-06-24</td>\n",
       "      <td>3036045</td>\n",
       "      <td>1</td>\n",
       "      <td>301.00</td>\n",
       "      <td>2.974722</td>\n",
       "      <td>21.025278</td>\n",
       "      <td>101.185918</td>\n",
       "    </tr>\n",
       "    <tr>\n",
       "      <th>...</th>\n",
       "      <td>...</td>\n",
       "      <td>...</td>\n",
       "      <td>...</td>\n",
       "      <td>...</td>\n",
       "      <td>...</td>\n",
       "      <td>...</td>\n",
       "      <td>...</td>\n",
       "    </tr>\n",
       "    <tr>\n",
       "      <th>367</th>\n",
       "      <td>2024-07-23</td>\n",
       "      <td>3036043</td>\n",
       "      <td>14</td>\n",
       "      <td>73.94</td>\n",
       "      <td>1.783056</td>\n",
       "      <td>22.216944</td>\n",
       "      <td>41.468141</td>\n",
       "    </tr>\n",
       "    <tr>\n",
       "      <th>368</th>\n",
       "      <td>2024-07-23</td>\n",
       "      <td>3036056</td>\n",
       "      <td>13</td>\n",
       "      <td>92.33</td>\n",
       "      <td>2.113611</td>\n",
       "      <td>21.886389</td>\n",
       "      <td>43.683533</td>\n",
       "    </tr>\n",
       "    <tr>\n",
       "      <th>369</th>\n",
       "      <td>2024-07-23</td>\n",
       "      <td>3036057</td>\n",
       "      <td>1</td>\n",
       "      <td>64.96</td>\n",
       "      <td>0.665556</td>\n",
       "      <td>23.334444</td>\n",
       "      <td>97.602671</td>\n",
       "    </tr>\n",
       "    <tr>\n",
       "      <th>370</th>\n",
       "      <td>2024-07-23</td>\n",
       "      <td>3036068</td>\n",
       "      <td>13</td>\n",
       "      <td>92.23</td>\n",
       "      <td>2.125556</td>\n",
       "      <td>21.874444</td>\n",
       "      <td>43.391009</td>\n",
       "    </tr>\n",
       "    <tr>\n",
       "      <th>371</th>\n",
       "      <td>2024-07-23</td>\n",
       "      <td>3036069</td>\n",
       "      <td>1</td>\n",
       "      <td>350.91</td>\n",
       "      <td>3.904722</td>\n",
       "      <td>20.095278</td>\n",
       "      <td>89.868108</td>\n",
       "    </tr>\n",
       "  </tbody>\n",
       "</table>\n",
       "<p>372 rows × 7 columns</p>\n",
       "</div>"
      ],
      "text/plain": [
       "           date  tracker_id  count_finished  length   duration  offtrack_time  \\\n",
       "0    2024-06-24      877766              47  739.75  16.796389       7.203611   \n",
       "1    2024-06-24      877767              20  856.61  19.289444       4.710556   \n",
       "2    2024-06-24      877768              68  829.97  19.137222       4.862778   \n",
       "3    2024-06-24     3036043              53  306.53   7.116389      16.883611   \n",
       "4    2024-06-24     3036045               1  301.00   2.974722      21.025278   \n",
       "..          ...         ...             ...     ...        ...            ...   \n",
       "367  2024-07-23     3036043              14   73.94   1.783056      22.216944   \n",
       "368  2024-07-23     3036056              13   92.33   2.113611      21.886389   \n",
       "369  2024-07-23     3036057               1   64.96   0.665556      23.334444   \n",
       "370  2024-07-23     3036068              13   92.23   2.125556      21.874444   \n",
       "371  2024-07-23     3036069               1  350.91   3.904722      20.095278   \n",
       "\n",
       "      avg_speed  \n",
       "0     44.042205  \n",
       "1     44.408226  \n",
       "2     43.369408  \n",
       "3     43.073812  \n",
       "4    101.185918  \n",
       "..          ...  \n",
       "367   41.468141  \n",
       "368   43.683533  \n",
       "369   97.602671  \n",
       "370   43.391009  \n",
       "371   89.868108  \n",
       "\n",
       "[372 rows x 7 columns]"
      ]
     },
     "execution_count": 35,
     "metadata": {},
     "output_type": "execute_result"
    }
   ],
   "source": [
    "stats"
   ]
  },
  {
   "cell_type": "markdown",
   "metadata": {},
   "source": [
    "Let's compare the aggregated distances and mileage, obtained from mileage endpoint"
   ]
  },
  {
   "cell_type": "code",
   "execution_count": 36,
   "metadata": {},
   "outputs": [],
   "source": [
    "dfm = pd.read_csv('../data/mileage.csv')\n",
    "dfm = (dfm.sort_values(by='date').reset_index(drop=True).astype({'date':'str'})\n",
    "        .merge(stats[['date', 'tracker_id', 'length', 'count_finished']].sort_values(by='date').reset_index(drop=True).astype({'date':'str'}), \n",
    "                on=['tracker_id', 'date'], how='outer'))\n",
    "dfm['length_diff'] = abs(dfm.mileage - dfm.length)"
   ]
  },
  {
   "cell_type": "code",
   "execution_count": 37,
   "metadata": {},
   "outputs": [
    {
     "data": {
      "text/html": [
       "<div>\n",
       "<style scoped>\n",
       "    .dataframe tbody tr th:only-of-type {\n",
       "        vertical-align: middle;\n",
       "    }\n",
       "\n",
       "    .dataframe tbody tr th {\n",
       "        vertical-align: top;\n",
       "    }\n",
       "\n",
       "    .dataframe thead th {\n",
       "        text-align: right;\n",
       "    }\n",
       "</style>\n",
       "<table border=\"1\" class=\"dataframe\">\n",
       "  <thead>\n",
       "    <tr style=\"text-align: right;\">\n",
       "      <th></th>\n",
       "      <th>tracker_id</th>\n",
       "      <th>date</th>\n",
       "      <th>mileage</th>\n",
       "      <th>length</th>\n",
       "      <th>count_finished</th>\n",
       "      <th>length_diff</th>\n",
       "    </tr>\n",
       "  </thead>\n",
       "  <tbody>\n",
       "    <tr>\n",
       "      <th>8</th>\n",
       "      <td>877766</td>\n",
       "      <td>2024-07-02</td>\n",
       "      <td>792.79</td>\n",
       "      <td>750.39</td>\n",
       "      <td>44.0</td>\n",
       "      <td>42.40</td>\n",
       "    </tr>\n",
       "    <tr>\n",
       "      <th>52</th>\n",
       "      <td>877767</td>\n",
       "      <td>2024-07-16</td>\n",
       "      <td>661.62</td>\n",
       "      <td>627.33</td>\n",
       "      <td>14.0</td>\n",
       "      <td>34.29</td>\n",
       "    </tr>\n",
       "    <tr>\n",
       "      <th>188</th>\n",
       "      <td>3036047</td>\n",
       "      <td>2024-07-02</td>\n",
       "      <td>269.11</td>\n",
       "      <td>239.73</td>\n",
       "      <td>28.0</td>\n",
       "      <td>29.38</td>\n",
       "    </tr>\n",
       "    <tr>\n",
       "      <th>181</th>\n",
       "      <td>3036047</td>\n",
       "      <td>2024-06-25</td>\n",
       "      <td>276.66</td>\n",
       "      <td>247.65</td>\n",
       "      <td>27.0</td>\n",
       "      <td>29.01</td>\n",
       "    </tr>\n",
       "    <tr>\n",
       "      <th>458</th>\n",
       "      <td>3036071</td>\n",
       "      <td>2024-07-02</td>\n",
       "      <td>247.93</td>\n",
       "      <td>221.82</td>\n",
       "      <td>22.0</td>\n",
       "      <td>26.11</td>\n",
       "    </tr>\n",
       "    <tr>\n",
       "      <th>198</th>\n",
       "      <td>3036047</td>\n",
       "      <td>2024-07-12</td>\n",
       "      <td>264.64</td>\n",
       "      <td>238.69</td>\n",
       "      <td>28.0</td>\n",
       "      <td>25.95</td>\n",
       "    </tr>\n",
       "    <tr>\n",
       "      <th>22</th>\n",
       "      <td>877766</td>\n",
       "      <td>2024-07-16</td>\n",
       "      <td>625.55</td>\n",
       "      <td>600.93</td>\n",
       "      <td>27.0</td>\n",
       "      <td>24.62</td>\n",
       "    </tr>\n",
       "    <tr>\n",
       "      <th>428</th>\n",
       "      <td>3036070</td>\n",
       "      <td>2024-07-02</td>\n",
       "      <td>177.35</td>\n",
       "      <td>152.96</td>\n",
       "      <td>44.0</td>\n",
       "      <td>24.39</td>\n",
       "    </tr>\n",
       "    <tr>\n",
       "      <th>421</th>\n",
       "      <td>3036070</td>\n",
       "      <td>2024-06-25</td>\n",
       "      <td>161.42</td>\n",
       "      <td>139.66</td>\n",
       "      <td>44.0</td>\n",
       "      <td>21.76</td>\n",
       "    </tr>\n",
       "    <tr>\n",
       "      <th>202</th>\n",
       "      <td>3036047</td>\n",
       "      <td>2024-07-16</td>\n",
       "      <td>264.37</td>\n",
       "      <td>242.78</td>\n",
       "      <td>28.0</td>\n",
       "      <td>21.59</td>\n",
       "    </tr>\n",
       "  </tbody>\n",
       "</table>\n",
       "</div>"
      ],
      "text/plain": [
       "     tracker_id        date  mileage  length  count_finished  length_diff\n",
       "8        877766  2024-07-02   792.79  750.39            44.0        42.40\n",
       "52       877767  2024-07-16   661.62  627.33            14.0        34.29\n",
       "188     3036047  2024-07-02   269.11  239.73            28.0        29.38\n",
       "181     3036047  2024-06-25   276.66  247.65            27.0        29.01\n",
       "458     3036071  2024-07-02   247.93  221.82            22.0        26.11\n",
       "198     3036047  2024-07-12   264.64  238.69            28.0        25.95\n",
       "22       877766  2024-07-16   625.55  600.93            27.0        24.62\n",
       "428     3036070  2024-07-02   177.35  152.96            44.0        24.39\n",
       "421     3036070  2024-06-25   161.42  139.66            44.0        21.76\n",
       "202     3036047  2024-07-16   264.37  242.78            28.0        21.59"
      ]
     },
     "execution_count": 37,
     "metadata": {},
     "output_type": "execute_result"
    }
   ],
   "source": [
    "# look at examples of discrepancies for the trackers, that do not belong to the list of anomalous ones\n",
    "dfm.loc[(dfm['length_diff'] > 2) & (~dfm.tracker_id.isin([3036045, 3036057, 3036069]))].sort_values(by='length_diff', ascending=False).head(10)"
   ]
  },
  {
   "cell_type": "markdown",
   "metadata": {},
   "source": [
    "There are occurrences of discrepancies between the aggregated daily distance traveled and the daily mileage for each tracker"
   ]
  },
  {
   "cell_type": "code",
   "execution_count": 38,
   "metadata": {},
   "outputs": [
    {
     "data": {
      "text/plain": [
       "14"
      ]
     },
     "execution_count": 38,
     "metadata": {},
     "output_type": "execute_result"
    }
   ],
   "source": [
    "dfm[dfm['length_diff'] > 2].tracker_id.nunique()"
   ]
  },
  {
   "cell_type": "markdown",
   "metadata": {},
   "source": [
    "When examining the tracks for a day with discrepancies between mileage and the sum of track lengths, we see that the end address of one track and the start address of the next track don't always coincide. Some vehicle travels might occur but are not recorded as tracks. (see rows 1442:1443)"
   ]
  },
  {
   "cell_type": "code",
   "execution_count": 39,
   "metadata": {},
   "outputs": [
    {
     "data": {
      "text/html": [
       "<div>\n",
       "<style scoped>\n",
       "    .dataframe tbody tr th:only-of-type {\n",
       "        vertical-align: middle;\n",
       "    }\n",
       "\n",
       "    .dataframe tbody tr th {\n",
       "        vertical-align: top;\n",
       "    }\n",
       "\n",
       "    .dataframe thead th {\n",
       "        text-align: right;\n",
       "    }\n",
       "</style>\n",
       "<table border=\"1\" class=\"dataframe\">\n",
       "  <thead>\n",
       "    <tr style=\"text-align: right;\">\n",
       "      <th></th>\n",
       "      <th>id</th>\n",
       "      <th>start_date</th>\n",
       "      <th>end_date</th>\n",
       "      <th>length</th>\n",
       "      <th>start_address</th>\n",
       "      <th>end_address</th>\n",
       "    </tr>\n",
       "  </thead>\n",
       "  <tbody>\n",
       "    <tr>\n",
       "      <th>1439</th>\n",
       "      <td>19805</td>\n",
       "      <td>2024-07-16 00:01:21</td>\n",
       "      <td>2024-07-16 00:45:16</td>\n",
       "      <td>30.61</td>\n",
       "      <td>Martin Luther King Jr., Martin Luther King Jr. Tribute Plaza, Buffalo, New York, United States, 14211</td>\n",
       "      <td>Wyldewood Beach, Port Colborne, Golden Horseshoe, Ontario, Canada, L0S 1R0</td>\n",
       "    </tr>\n",
       "    <tr>\n",
       "      <th>1440</th>\n",
       "      <td>19806</td>\n",
       "      <td>2024-07-16 00:59:23</td>\n",
       "      <td>2024-07-16 02:06:44</td>\n",
       "      <td>49.26</td>\n",
       "      <td>Wyldewood Beach, Port Colborne, Golden Horseshoe, Ontario, Canada, L0S 1R0</td>\n",
       "      <td>524, Northrup Road, Town of Elma, New York, United States, 14059</td>\n",
       "    </tr>\n",
       "    <tr>\n",
       "      <th>1441</th>\n",
       "      <td>19807</td>\n",
       "      <td>2024-07-16 02:20:51</td>\n",
       "      <td>2024-07-16 03:07:27</td>\n",
       "      <td>34.39</td>\n",
       "      <td>524, Northrup Road, Town of Elma, New York, United States, 14059</td>\n",
       "      <td>Camp Seven Hills, Dutchtown Road, Town of Sardinia, Erie County, New York, United States, 14030</td>\n",
       "    </tr>\n",
       "    <tr>\n",
       "      <th>1442</th>\n",
       "      <td>19808</td>\n",
       "      <td>2024-07-16 03:21:39</td>\n",
       "      <td>2024-07-16 04:19:40</td>\n",
       "      <td>44.73</td>\n",
       "      <td>Camp Seven Hills, Dutchtown Road, Town of Sardinia, Erie County, New York, United States, 14030</td>\n",
       "      <td>Olympiad Drive, Village of Hamburg, New York, United States, 14075</td>\n",
       "    </tr>\n",
       "    <tr>\n",
       "      <th>1443</th>\n",
       "      <td>19809</td>\n",
       "      <td>2024-07-16 11:10:41</td>\n",
       "      <td>2024-07-16 12:07:50</td>\n",
       "      <td>42.42</td>\n",
       "      <td>10695, State Highway 240, West Valley, Town of Ashford, New York, United States, 14171</td>\n",
       "      <td>7380, Jewett Holmwood Road, Town of Orchard Park, Erie County, New York, United States, 14127</td>\n",
       "    </tr>\n",
       "    <tr>\n",
       "      <th>1444</th>\n",
       "      <td>19810</td>\n",
       "      <td>2024-07-16 12:21:56</td>\n",
       "      <td>2024-07-16 13:29:51</td>\n",
       "      <td>50.18</td>\n",
       "      <td>7380, Jewett Holmwood Road, Town of Orchard Park, Erie County, New York, United States, 14127</td>\n",
       "      <td>10904, Alexander Darien Townline Road, Town of Alexander, New York, United States, 14040</td>\n",
       "    </tr>\n",
       "    <tr>\n",
       "      <th>1445</th>\n",
       "      <td>19811</td>\n",
       "      <td>2024-07-16 13:43:58</td>\n",
       "      <td>2024-07-16 14:22:12</td>\n",
       "      <td>28.52</td>\n",
       "      <td>10904, Alexander Darien Townline Road, Town of Alexander, New York, United States, 14040</td>\n",
       "      <td>4170, East Blood Road, Wales Center, Town of Wales, Erie County, New York, United States, 14037</td>\n",
       "    </tr>\n",
       "    <tr>\n",
       "      <th>1446</th>\n",
       "      <td>19812</td>\n",
       "      <td>2024-07-16 14:36:18</td>\n",
       "      <td>2024-07-16 15:41:28</td>\n",
       "      <td>49.43</td>\n",
       "      <td>4170, East Blood Road, Wales Center, Town of Wales, Erie County, New York, United States, 14037</td>\n",
       "      <td>445, Voorhees Avenue, Buffalo, New York, United States, 14216</td>\n",
       "    </tr>\n",
       "    <tr>\n",
       "      <th>1447</th>\n",
       "      <td>19813</td>\n",
       "      <td>2024-07-16 15:55:35</td>\n",
       "      <td>2024-07-16 16:53:15</td>\n",
       "      <td>42.55</td>\n",
       "      <td>445, Voorhees Avenue, Buffalo, New York, United States, 14216</td>\n",
       "      <td>2960, Randall Road, Ransomville, Niagara County, New York, United States, 14131</td>\n",
       "    </tr>\n",
       "    <tr>\n",
       "      <th>1448</th>\n",
       "      <td>19814</td>\n",
       "      <td>2024-07-16 17:07:21</td>\n",
       "      <td>2024-07-16 18:05:50</td>\n",
       "      <td>45.77</td>\n",
       "      <td>2960, Randall Road, Ransomville, Niagara County, New York, United States, 14131</td>\n",
       "      <td>Bartel Road, Town of Alabama, Town of Royalton, Niagara County, New York, United States</td>\n",
       "    </tr>\n",
       "    <tr>\n",
       "      <th>1449</th>\n",
       "      <td>19815</td>\n",
       "      <td>2024-07-16 18:19:57</td>\n",
       "      <td>2024-07-16 19:17:51</td>\n",
       "      <td>42.25</td>\n",
       "      <td>Bartel Road, Town of Alabama, Town of Royalton, Niagara County, New York, United States</td>\n",
       "      <td>4530, Townline Road, Ransomville, Town of Cambria, Niagara County, New York, United States, 14131</td>\n",
       "    </tr>\n",
       "    <tr>\n",
       "      <th>1450</th>\n",
       "      <td>19816</td>\n",
       "      <td>2024-07-16 19:31:58</td>\n",
       "      <td>2024-07-16 20:43:23</td>\n",
       "      <td>52.40</td>\n",
       "      <td>4530, Townline Road, Ransomville, Town of Cambria, Niagara County, New York, United States, 14131</td>\n",
       "      <td>Fort Erie, Golden Horseshoe, Ontario, Canada, L0S 1N0</td>\n",
       "    </tr>\n",
       "    <tr>\n",
       "      <th>1451</th>\n",
       "      <td>19817</td>\n",
       "      <td>2024-07-16 20:57:29</td>\n",
       "      <td>2024-07-16 21:39:04</td>\n",
       "      <td>30.12</td>\n",
       "      <td>Fort Erie, Golden Horseshoe, Ontario, Canada, L0S 1N0</td>\n",
       "      <td>Morgans Point Road, 1404, Wainfleet, Niagara Region, Golden Horseshoe, Ontario, Canada</td>\n",
       "    </tr>\n",
       "    <tr>\n",
       "      <th>1452</th>\n",
       "      <td>19818</td>\n",
       "      <td>2024-07-16 21:53:10</td>\n",
       "      <td>2024-07-16 23:47:47</td>\n",
       "      <td>84.70</td>\n",
       "      <td>Morgans Point Road, 1404, Wainfleet, Niagara Region, Golden Horseshoe, Ontario, Canada</td>\n",
       "      <td>Lake Erie Beach, Town of Evans, Erie County, New York, United States, 14061</td>\n",
       "    </tr>\n",
       "  </tbody>\n",
       "</table>\n",
       "</div>"
      ],
      "text/plain": [
       "         id           start_date             end_date  length  \\\n",
       "1439  19805  2024-07-16 00:01:21  2024-07-16 00:45:16   30.61   \n",
       "1440  19806  2024-07-16 00:59:23  2024-07-16 02:06:44   49.26   \n",
       "1441  19807  2024-07-16 02:20:51  2024-07-16 03:07:27   34.39   \n",
       "1442  19808  2024-07-16 03:21:39  2024-07-16 04:19:40   44.73   \n",
       "1443  19809  2024-07-16 11:10:41  2024-07-16 12:07:50   42.42   \n",
       "1444  19810  2024-07-16 12:21:56  2024-07-16 13:29:51   50.18   \n",
       "1445  19811  2024-07-16 13:43:58  2024-07-16 14:22:12   28.52   \n",
       "1446  19812  2024-07-16 14:36:18  2024-07-16 15:41:28   49.43   \n",
       "1447  19813  2024-07-16 15:55:35  2024-07-16 16:53:15   42.55   \n",
       "1448  19814  2024-07-16 17:07:21  2024-07-16 18:05:50   45.77   \n",
       "1449  19815  2024-07-16 18:19:57  2024-07-16 19:17:51   42.25   \n",
       "1450  19816  2024-07-16 19:31:58  2024-07-16 20:43:23   52.40   \n",
       "1451  19817  2024-07-16 20:57:29  2024-07-16 21:39:04   30.12   \n",
       "1452  19818  2024-07-16 21:53:10  2024-07-16 23:47:47   84.70   \n",
       "\n",
       "                                                                                              start_address  \\\n",
       "1439  Martin Luther King Jr., Martin Luther King Jr. Tribute Plaza, Buffalo, New York, United States, 14211   \n",
       "1440                             Wyldewood Beach, Port Colborne, Golden Horseshoe, Ontario, Canada, L0S 1R0   \n",
       "1441                                       524, Northrup Road, Town of Elma, New York, United States, 14059   \n",
       "1442        Camp Seven Hills, Dutchtown Road, Town of Sardinia, Erie County, New York, United States, 14030   \n",
       "1443                 10695, State Highway 240, West Valley, Town of Ashford, New York, United States, 14171   \n",
       "1444          7380, Jewett Holmwood Road, Town of Orchard Park, Erie County, New York, United States, 14127   \n",
       "1445               10904, Alexander Darien Townline Road, Town of Alexander, New York, United States, 14040   \n",
       "1446        4170, East Blood Road, Wales Center, Town of Wales, Erie County, New York, United States, 14037   \n",
       "1447                                          445, Voorhees Avenue, Buffalo, New York, United States, 14216   \n",
       "1448                        2960, Randall Road, Ransomville, Niagara County, New York, United States, 14131   \n",
       "1449                Bartel Road, Town of Alabama, Town of Royalton, Niagara County, New York, United States   \n",
       "1450      4530, Townline Road, Ransomville, Town of Cambria, Niagara County, New York, United States, 14131   \n",
       "1451                                                  Fort Erie, Golden Horseshoe, Ontario, Canada, L0S 1N0   \n",
       "1452                 Morgans Point Road, 1404, Wainfleet, Niagara Region, Golden Horseshoe, Ontario, Canada   \n",
       "\n",
       "                                                                                            end_address  \n",
       "1439                         Wyldewood Beach, Port Colborne, Golden Horseshoe, Ontario, Canada, L0S 1R0  \n",
       "1440                                   524, Northrup Road, Town of Elma, New York, United States, 14059  \n",
       "1441    Camp Seven Hills, Dutchtown Road, Town of Sardinia, Erie County, New York, United States, 14030  \n",
       "1442                                 Olympiad Drive, Village of Hamburg, New York, United States, 14075  \n",
       "1443      7380, Jewett Holmwood Road, Town of Orchard Park, Erie County, New York, United States, 14127  \n",
       "1444           10904, Alexander Darien Townline Road, Town of Alexander, New York, United States, 14040  \n",
       "1445    4170, East Blood Road, Wales Center, Town of Wales, Erie County, New York, United States, 14037  \n",
       "1446                                      445, Voorhees Avenue, Buffalo, New York, United States, 14216  \n",
       "1447                    2960, Randall Road, Ransomville, Niagara County, New York, United States, 14131  \n",
       "1448            Bartel Road, Town of Alabama, Town of Royalton, Niagara County, New York, United States  \n",
       "1449  4530, Townline Road, Ransomville, Town of Cambria, Niagara County, New York, United States, 14131  \n",
       "1450                                              Fort Erie, Golden Horseshoe, Ontario, Canada, L0S 1N0  \n",
       "1451             Morgans Point Road, 1404, Wainfleet, Niagara Region, Golden Horseshoe, Ontario, Canada  \n",
       "1452                        Lake Erie Beach, Town of Evans, Erie County, New York, United States, 14061  "
      ]
     },
     "metadata": {},
     "output_type": "display_data"
    }
   ],
   "source": [
    "with pd.option_context(\"display.max_rows\", 1200, \"display.max_columns\", 1000, 'display.max_colwidth', 1000):\n",
    "    display(df.loc[df.start_date.str.contains('2024-07-16') & (df.tracker_id == 877767), \n",
    "            ['id', 'start_date', 'end_date', 'length', 'start_address', 'end_address']])"
   ]
  },
  {
   "cell_type": "code",
   "execution_count": 40,
   "metadata": {},
   "outputs": [
    {
     "data": {
      "text/html": [
       "<div>\n",
       "<style scoped>\n",
       "    .dataframe tbody tr th:only-of-type {\n",
       "        vertical-align: middle;\n",
       "    }\n",
       "\n",
       "    .dataframe tbody tr th {\n",
       "        vertical-align: top;\n",
       "    }\n",
       "\n",
       "    .dataframe thead th {\n",
       "        text-align: right;\n",
       "    }\n",
       "</style>\n",
       "<table border=\"1\" class=\"dataframe\">\n",
       "  <thead>\n",
       "    <tr style=\"text-align: right;\">\n",
       "      <th></th>\n",
       "      <th>tracker_id</th>\n",
       "      <th>length_mean</th>\n",
       "      <th>duration_mean</th>\n",
       "      <th>avg_speed</th>\n",
       "    </tr>\n",
       "  </thead>\n",
       "  <tbody>\n",
       "    <tr>\n",
       "      <th>0</th>\n",
       "      <td>877766</td>\n",
       "      <td>678.033929</td>\n",
       "      <td>15.239077</td>\n",
       "      <td>44.493109</td>\n",
       "    </tr>\n",
       "    <tr>\n",
       "      <th>1</th>\n",
       "      <td>877767</td>\n",
       "      <td>772.103571</td>\n",
       "      <td>17.207351</td>\n",
       "      <td>44.870565</td>\n",
       "    </tr>\n",
       "    <tr>\n",
       "      <th>2</th>\n",
       "      <td>877768</td>\n",
       "      <td>723.395357</td>\n",
       "      <td>16.788611</td>\n",
       "      <td>43.088458</td>\n",
       "    </tr>\n",
       "    <tr>\n",
       "      <th>3</th>\n",
       "      <td>3036043</td>\n",
       "      <td>259.392143</td>\n",
       "      <td>6.092143</td>\n",
       "      <td>42.578145</td>\n",
       "    </tr>\n",
       "    <tr>\n",
       "      <th>4</th>\n",
       "      <td>3036045</td>\n",
       "      <td>493.688519</td>\n",
       "      <td>4.845566</td>\n",
       "      <td>101.884596</td>\n",
       "    </tr>\n",
       "    <tr>\n",
       "      <th>5</th>\n",
       "      <td>3036047</td>\n",
       "      <td>240.702800</td>\n",
       "      <td>5.312733</td>\n",
       "      <td>45.306772</td>\n",
       "    </tr>\n",
       "    <tr>\n",
       "      <th>6</th>\n",
       "      <td>3036049</td>\n",
       "      <td>267.033200</td>\n",
       "      <td>6.121222</td>\n",
       "      <td>43.624164</td>\n",
       "    </tr>\n",
       "    <tr>\n",
       "      <th>7</th>\n",
       "      <td>3036056</td>\n",
       "      <td>303.992143</td>\n",
       "      <td>7.063671</td>\n",
       "      <td>43.036002</td>\n",
       "    </tr>\n",
       "    <tr>\n",
       "      <th>8</th>\n",
       "      <td>3036057</td>\n",
       "      <td>978.673077</td>\n",
       "      <td>10.099808</td>\n",
       "      <td>96.900169</td>\n",
       "    </tr>\n",
       "    <tr>\n",
       "      <th>9</th>\n",
       "      <td>3036060</td>\n",
       "      <td>225.398400</td>\n",
       "      <td>5.288711</td>\n",
       "      <td>42.618777</td>\n",
       "    </tr>\n",
       "    <tr>\n",
       "      <th>10</th>\n",
       "      <td>3036068</td>\n",
       "      <td>335.823571</td>\n",
       "      <td>7.858919</td>\n",
       "      <td>42.731524</td>\n",
       "    </tr>\n",
       "    <tr>\n",
       "      <th>11</th>\n",
       "      <td>3036069</td>\n",
       "      <td>843.866923</td>\n",
       "      <td>10.153280</td>\n",
       "      <td>83.112741</td>\n",
       "    </tr>\n",
       "    <tr>\n",
       "      <th>12</th>\n",
       "      <td>3036070</td>\n",
       "      <td>155.070000</td>\n",
       "      <td>3.869889</td>\n",
       "      <td>40.070918</td>\n",
       "    </tr>\n",
       "    <tr>\n",
       "      <th>13</th>\n",
       "      <td>3036071</td>\n",
       "      <td>225.005200</td>\n",
       "      <td>5.325078</td>\n",
       "      <td>42.253880</td>\n",
       "    </tr>\n",
       "  </tbody>\n",
       "</table>\n",
       "</div>"
      ],
      "text/plain": [
       "    tracker_id  length_mean  duration_mean   avg_speed\n",
       "0       877766   678.033929      15.239077   44.493109\n",
       "1       877767   772.103571      17.207351   44.870565\n",
       "2       877768   723.395357      16.788611   43.088458\n",
       "3      3036043   259.392143       6.092143   42.578145\n",
       "4      3036045   493.688519       4.845566  101.884596\n",
       "5      3036047   240.702800       5.312733   45.306772\n",
       "6      3036049   267.033200       6.121222   43.624164\n",
       "7      3036056   303.992143       7.063671   43.036002\n",
       "8      3036057   978.673077      10.099808   96.900169\n",
       "9      3036060   225.398400       5.288711   42.618777\n",
       "10     3036068   335.823571       7.858919   42.731524\n",
       "11     3036069   843.866923      10.153280   83.112741\n",
       "12     3036070   155.070000       3.869889   40.070918\n",
       "13     3036071   225.005200       5.325078   42.253880"
      ]
     },
     "execution_count": 40,
     "metadata": {},
     "output_type": "execute_result"
    }
   ],
   "source": [
    "# calculate the averages for each tracker individually when the data is aggregated by date\n",
    "grouped = stats.groupby('tracker_id', as_index=False).agg(length_mean=('length', 'mean'),\n",
    "                                                       duration_mean=('duration', 'mean'),\n",
    "                                                       length_sum=('length', 'sum'),\n",
    "                                                       duration_sum=('duration', 'sum'))\n",
    "grouped['avg_speed'] = grouped['length_sum'] / grouped['duration_sum']\n",
    "grouped[['tracker_id', 'length_mean', 'duration_mean', 'avg_speed']]"
   ]
  },
  {
   "cell_type": "markdown",
   "metadata": {},
   "source": [
    "Apart from the previously identified abnormal trackers (3036045, 3036057, and 3036069), there are three other trackers that stand out due to their mean daily duration and length (877766, 877767, 877768). This is likely because the same vehicle (and tracker) is used by two different drivers each day."
   ]
  },
  {
   "cell_type": "markdown",
   "metadata": {},
   "source": [
    "Since the dashboard will allow for aggregating data by specific groups of trackers and will also provide overall metrics, it makes sense to remove clearly abnormal data from trackers 3036045, 3036057, and 3036069."
   ]
  },
  {
   "cell_type": "code",
   "execution_count": 41,
   "metadata": {},
   "outputs": [],
   "source": [
    "stats = stats[~stats.tracker_id.isin([3036045, 3036057, 3036069])]"
   ]
  },
  {
   "cell_type": "markdown",
   "metadata": {},
   "source": [
    "We should include data for the dates 2024-07-10 and 2024-07-11 so that it can be visualized properly."
   ]
  },
  {
   "cell_type": "code",
   "execution_count": 42,
   "metadata": {},
   "outputs": [
    {
     "data": {
      "text/plain": [
       "Index(['date', 'tracker_id', 'count_finished', 'length', 'duration',\n",
       "       'offtrack_time', 'avg_speed'],\n",
       "      dtype='object')"
      ]
     },
     "execution_count": 42,
     "metadata": {},
     "output_type": "execute_result"
    }
   ],
   "source": [
    "stats.columns"
   ]
  },
  {
   "cell_type": "code",
   "execution_count": 43,
   "metadata": {},
   "outputs": [],
   "source": [
    "df_add = pd.DataFrame(stats.tracker_id.unique().tolist(), columns=['tracker_id'])\n",
    "df_add['date'] = '2024-07-10'\n",
    "df_add['count_finished'] = 0\n",
    "df_add['length'] = 0\n",
    "df_add['duration'] = 0\n",
    "df_add['offtrack_time'] = 24\n",
    "df_add['avg_speed'] = 0"
   ]
  },
  {
   "cell_type": "code",
   "execution_count": 44,
   "metadata": {},
   "outputs": [],
   "source": [
    "df_add = df_add[['date', 'tracker_id', 'count_finished', 'length', \n",
    "                  'duration', 'offtrack_time', 'avg_speed']]\n",
    "df_add1 = df_add.copy()\n",
    "df_add1['date'] = '2024-07-11'\n",
    "stats = pd.concat([stats, df_add, df_add1]).reset_index(drop=True)"
   ]
  },
  {
   "cell_type": "markdown",
   "metadata": {},
   "source": [
    "We should also check if any of trackers still lack data from specific dates."
   ]
  },
  {
   "cell_type": "code",
   "execution_count": 45,
   "metadata": {},
   "outputs": [],
   "source": [
    "to_add_data = {}\n",
    "for tracker_id in stats.tracker_id.unique().tolist():\n",
    "    missing_dates = pd.date_range(start=\"2024-06-24\", end=\"2024-07-23\").difference(pd.to_datetime(stats.loc[stats.tracker_id == tracker_id, 'date']).dt.date)\n",
    "    if len(missing_dates) > 0:\n",
    "        to_add_data[tracker_id] = missing_dates"
   ]
  },
  {
   "cell_type": "code",
   "execution_count": 46,
   "metadata": {},
   "outputs": [
    {
     "data": {
      "text/plain": [
       "{3036047: DatetimeIndex(['2024-07-09', '2024-07-17', '2024-07-23'], dtype='datetime64[ns]', freq=None),\n",
       " 3036049: DatetimeIndex(['2024-07-09', '2024-07-17', '2024-07-23'], dtype='datetime64[ns]', freq=None),\n",
       " 3036060: DatetimeIndex(['2024-07-09', '2024-07-17', '2024-07-23'], dtype='datetime64[ns]', freq=None),\n",
       " 3036070: DatetimeIndex(['2024-07-09', '2024-07-17', '2024-07-23'], dtype='datetime64[ns]', freq=None),\n",
       " 3036071: DatetimeIndex(['2024-07-09', '2024-07-17', '2024-07-23'], dtype='datetime64[ns]', freq=None)}"
      ]
     },
     "execution_count": 46,
     "metadata": {},
     "output_type": "execute_result"
    }
   ],
   "source": [
    "to_add_data"
   ]
  },
  {
   "cell_type": "code",
   "execution_count": 47,
   "metadata": {},
   "outputs": [],
   "source": [
    "df_add = df_add[df_add.tracker_id.isin(to_add_data.keys())].copy()\n",
    "df_add['date'] = '2024-07-09'\n",
    "df_add1 = df_add.copy()\n",
    "df_add1['date'] = '2024-07-17'\n",
    "df_add2 = df_add.copy()\n",
    "df_add2['date'] = '2024-07-23'\n",
    "stats = pd.concat([stats, df_add, df_add1, df_add2]).reset_index(drop=True)"
   ]
  },
  {
   "cell_type": "code",
   "execution_count": 48,
   "metadata": {},
   "outputs": [],
   "source": [
    "stats.to_csv('../data/stats.csv', index=False)"
   ]
  }
 ],
 "metadata": {
  "kernelspec": {
   "display_name": "base",
   "language": "python",
   "name": "python3"
  },
  "language_info": {
   "codemirror_mode": {
    "name": "ipython",
    "version": 3
   },
   "file_extension": ".py",
   "mimetype": "text/x-python",
   "name": "python",
   "nbconvert_exporter": "python",
   "pygments_lexer": "ipython3",
   "version": "3.11.5"
  }
 },
 "nbformat": 4,
 "nbformat_minor": 2
}
